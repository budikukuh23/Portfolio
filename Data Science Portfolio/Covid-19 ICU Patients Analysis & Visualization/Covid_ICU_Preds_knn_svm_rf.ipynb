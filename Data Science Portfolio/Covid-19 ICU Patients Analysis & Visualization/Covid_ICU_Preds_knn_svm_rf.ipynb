{
  "nbformat": 4,
  "nbformat_minor": 0,
  "metadata": {
    "kernelspec": {
      "display_name": "Python 3",
      "language": "python",
      "name": "python3"
    },
    "language_info": {
      "codemirror_mode": {
        "name": "ipython",
        "version": 3
      },
      "file_extension": ".py",
      "mimetype": "text/x-python",
      "name": "python",
      "nbconvert_exporter": "python",
      "pygments_lexer": "ipython3",
      "version": "3.8.5"
    },
    "colab": {
      "name": "Covid ICU Preds knn svm rf.ipynb",
      "provenance": []
    }
  },
  "cells": [
    {
      "cell_type": "code",
      "metadata": {
        "colab": {
          "base_uri": "https://localhost:8080/"
        },
        "id": "ObhR3jdjzyaY",
        "outputId": "c120885c-01ca-4c02-f601-cd6909c7306b"
      },
      "source": [
        "import pandas as pd\n",
        "import numpy as np\n",
        "import warnings\n",
        "\n",
        "from sklearn.preprocessing import StandardScaler\n",
        "from imblearn.over_sampling import SMOTE\n",
        "from sklearn.model_selection import train_test_split\n",
        "from sklearn.metrics import accuracy_score, confusion_matrix, classification_report\n",
        "from sklearn.ensemble import RandomForestClassifier\n",
        "from sklearn.svm import SVC\n",
        "from sklearn.neighbors import KNeighborsClassifier\n",
        "from sklearn.ensemble import GradientBoostingClassifier\n",
        "from sklearn.ensemble import AdaBoostClassifier\n",
        "from sklearn.tree import DecisionTreeClassifier\n",
        "from xgboost import XGBClassifier\n",
        "\n",
        "pd.set_option('display.max_columns', None)\n",
        "warnings.filterwarnings('ignore')"
      ],
      "execution_count": 1,
      "outputs": [
        {
          "output_type": "stream",
          "name": "stderr",
          "text": [
            "/usr/local/lib/python3.7/dist-packages/sklearn/externals/six.py:31: FutureWarning: The module is deprecated in version 0.21 and will be removed in version 0.23 since we've dropped support for Python 2.7. Please rely on the official version of six (https://pypi.org/project/six/).\n",
            "  \"(https://pypi.org/project/six/).\", FutureWarning)\n",
            "/usr/local/lib/python3.7/dist-packages/sklearn/utils/deprecation.py:144: FutureWarning: The sklearn.neighbors.base module is  deprecated in version 0.22 and will be removed in version 0.24. The corresponding classes / functions should instead be imported from sklearn.neighbors. Anything that cannot be imported from sklearn.neighbors is now part of the private API.\n",
            "  warnings.warn(message, FutureWarning)\n"
          ]
        }
      ]
    },
    {
      "cell_type": "code",
      "metadata": {
        "id": "Oa-mMvdUzyak"
      },
      "source": [
        "''' reading data '''\n",
        "df = pd.read_csv('https://firebasestorage.googleapis.com/v0/b/budi-23.appspot.com/o/dataset%2FCovid-19%20ICU%20Patients%20Analysis%20%26%20Visualization%2Fcovid.csv?alt=media&token=b216a797-2633-4e81-8bf1-4dea6ce290ab', parse_dates=[3, 4])"
      ],
      "execution_count": 2,
      "outputs": []
    },
    {
      "cell_type": "code",
      "metadata": {
        "colab": {
          "base_uri": "https://localhost:8080/",
          "height": 309
        },
        "id": "aLxv3kTpzyal",
        "outputId": "1799cdff-81cc-4fef-ee9c-1e93083e6309"
      },
      "source": [
        "''' displaying first 5 rows of data '''\n",
        "df.head()"
      ],
      "execution_count": 3,
      "outputs": [
        {
          "output_type": "execute_result",
          "data": {
            "text/html": [
              "<div>\n",
              "<style scoped>\n",
              "    .dataframe tbody tr th:only-of-type {\n",
              "        vertical-align: middle;\n",
              "    }\n",
              "\n",
              "    .dataframe tbody tr th {\n",
              "        vertical-align: top;\n",
              "    }\n",
              "\n",
              "    .dataframe thead th {\n",
              "        text-align: right;\n",
              "    }\n",
              "</style>\n",
              "<table border=\"1\" class=\"dataframe\">\n",
              "  <thead>\n",
              "    <tr style=\"text-align: right;\">\n",
              "      <th></th>\n",
              "      <th>id</th>\n",
              "      <th>sex</th>\n",
              "      <th>patient_type</th>\n",
              "      <th>entry_date</th>\n",
              "      <th>date_symptoms</th>\n",
              "      <th>date_died</th>\n",
              "      <th>intubed</th>\n",
              "      <th>pneumonia</th>\n",
              "      <th>age</th>\n",
              "      <th>pregnancy</th>\n",
              "      <th>diabetes</th>\n",
              "      <th>copd</th>\n",
              "      <th>asthma</th>\n",
              "      <th>inmsupr</th>\n",
              "      <th>hypertension</th>\n",
              "      <th>other_disease</th>\n",
              "      <th>cardiovascular</th>\n",
              "      <th>obesity</th>\n",
              "      <th>renal_chronic</th>\n",
              "      <th>tobacco</th>\n",
              "      <th>contact_other_covid</th>\n",
              "      <th>covid_res</th>\n",
              "      <th>icu</th>\n",
              "    </tr>\n",
              "  </thead>\n",
              "  <tbody>\n",
              "    <tr>\n",
              "      <th>0</th>\n",
              "      <td>16169f</td>\n",
              "      <td>2</td>\n",
              "      <td>1</td>\n",
              "      <td>2020-04-05</td>\n",
              "      <td>2020-02-05</td>\n",
              "      <td>9999-99-99</td>\n",
              "      <td>97</td>\n",
              "      <td>2</td>\n",
              "      <td>27</td>\n",
              "      <td>97</td>\n",
              "      <td>2</td>\n",
              "      <td>2</td>\n",
              "      <td>2</td>\n",
              "      <td>2</td>\n",
              "      <td>2</td>\n",
              "      <td>2</td>\n",
              "      <td>2</td>\n",
              "      <td>2</td>\n",
              "      <td>2</td>\n",
              "      <td>2</td>\n",
              "      <td>2</td>\n",
              "      <td>1</td>\n",
              "      <td>97</td>\n",
              "    </tr>\n",
              "    <tr>\n",
              "      <th>1</th>\n",
              "      <td>1009bf</td>\n",
              "      <td>2</td>\n",
              "      <td>1</td>\n",
              "      <td>2020-03-19</td>\n",
              "      <td>2020-03-17</td>\n",
              "      <td>9999-99-99</td>\n",
              "      <td>97</td>\n",
              "      <td>2</td>\n",
              "      <td>24</td>\n",
              "      <td>97</td>\n",
              "      <td>2</td>\n",
              "      <td>2</td>\n",
              "      <td>2</td>\n",
              "      <td>2</td>\n",
              "      <td>2</td>\n",
              "      <td>2</td>\n",
              "      <td>2</td>\n",
              "      <td>2</td>\n",
              "      <td>2</td>\n",
              "      <td>2</td>\n",
              "      <td>99</td>\n",
              "      <td>1</td>\n",
              "      <td>97</td>\n",
              "    </tr>\n",
              "    <tr>\n",
              "      <th>2</th>\n",
              "      <td>167386</td>\n",
              "      <td>1</td>\n",
              "      <td>2</td>\n",
              "      <td>2020-06-04</td>\n",
              "      <td>2020-01-04</td>\n",
              "      <td>9999-99-99</td>\n",
              "      <td>2</td>\n",
              "      <td>2</td>\n",
              "      <td>54</td>\n",
              "      <td>2</td>\n",
              "      <td>2</td>\n",
              "      <td>2</td>\n",
              "      <td>2</td>\n",
              "      <td>2</td>\n",
              "      <td>2</td>\n",
              "      <td>2</td>\n",
              "      <td>2</td>\n",
              "      <td>1</td>\n",
              "      <td>2</td>\n",
              "      <td>2</td>\n",
              "      <td>99</td>\n",
              "      <td>1</td>\n",
              "      <td>2</td>\n",
              "    </tr>\n",
              "    <tr>\n",
              "      <th>3</th>\n",
              "      <td>0b5948</td>\n",
              "      <td>2</td>\n",
              "      <td>2</td>\n",
              "      <td>2020-04-17</td>\n",
              "      <td>2020-10-04</td>\n",
              "      <td>9999-99-99</td>\n",
              "      <td>2</td>\n",
              "      <td>1</td>\n",
              "      <td>30</td>\n",
              "      <td>97</td>\n",
              "      <td>2</td>\n",
              "      <td>2</td>\n",
              "      <td>2</td>\n",
              "      <td>2</td>\n",
              "      <td>2</td>\n",
              "      <td>2</td>\n",
              "      <td>2</td>\n",
              "      <td>2</td>\n",
              "      <td>2</td>\n",
              "      <td>2</td>\n",
              "      <td>99</td>\n",
              "      <td>1</td>\n",
              "      <td>2</td>\n",
              "    </tr>\n",
              "    <tr>\n",
              "      <th>4</th>\n",
              "      <td>0d01b5</td>\n",
              "      <td>1</td>\n",
              "      <td>2</td>\n",
              "      <td>2020-04-13</td>\n",
              "      <td>2020-04-13</td>\n",
              "      <td>22-04-2020</td>\n",
              "      <td>2</td>\n",
              "      <td>2</td>\n",
              "      <td>60</td>\n",
              "      <td>2</td>\n",
              "      <td>1</td>\n",
              "      <td>2</td>\n",
              "      <td>2</td>\n",
              "      <td>2</td>\n",
              "      <td>1</td>\n",
              "      <td>2</td>\n",
              "      <td>1</td>\n",
              "      <td>2</td>\n",
              "      <td>2</td>\n",
              "      <td>2</td>\n",
              "      <td>99</td>\n",
              "      <td>1</td>\n",
              "      <td>2</td>\n",
              "    </tr>\n",
              "  </tbody>\n",
              "</table>\n",
              "</div>"
            ],
            "text/plain": [
              "       id  sex  patient_type entry_date date_symptoms   date_died  intubed  \\\n",
              "0  16169f    2             1 2020-04-05    2020-02-05  9999-99-99       97   \n",
              "1  1009bf    2             1 2020-03-19    2020-03-17  9999-99-99       97   \n",
              "2  167386    1             2 2020-06-04    2020-01-04  9999-99-99        2   \n",
              "3  0b5948    2             2 2020-04-17    2020-10-04  9999-99-99        2   \n",
              "4  0d01b5    1             2 2020-04-13    2020-04-13  22-04-2020        2   \n",
              "\n",
              "   pneumonia  age  pregnancy  diabetes  copd  asthma  inmsupr  hypertension  \\\n",
              "0          2   27         97         2     2       2        2             2   \n",
              "1          2   24         97         2     2       2        2             2   \n",
              "2          2   54          2         2     2       2        2             2   \n",
              "3          1   30         97         2     2       2        2             2   \n",
              "4          2   60          2         1     2       2        2             1   \n",
              "\n",
              "   other_disease  cardiovascular  obesity  renal_chronic  tobacco  \\\n",
              "0              2               2        2              2        2   \n",
              "1              2               2        2              2        2   \n",
              "2              2               2        1              2        2   \n",
              "3              2               2        2              2        2   \n",
              "4              2               1        2              2        2   \n",
              "\n",
              "   contact_other_covid  covid_res  icu  \n",
              "0                    2          1   97  \n",
              "1                   99          1   97  \n",
              "2                   99          1    2  \n",
              "3                   99          1    2  \n",
              "4                   99          1    2  "
            ]
          },
          "metadata": {},
          "execution_count": 3
        }
      ]
    },
    {
      "cell_type": "code",
      "metadata": {
        "colab": {
          "base_uri": "https://localhost:8080/"
        },
        "id": "I9MgHv2rzyao",
        "outputId": "07fb5dc3-af28-498b-9f1e-87665cf11762"
      },
      "source": [
        "''' shape of data '''\n",
        "df.shape"
      ],
      "execution_count": 4,
      "outputs": [
        {
          "output_type": "execute_result",
          "data": {
            "text/plain": [
              "(566602, 23)"
            ]
          },
          "metadata": {},
          "execution_count": 4
        }
      ]
    },
    {
      "cell_type": "code",
      "metadata": {
        "colab": {
          "base_uri": "https://localhost:8080/"
        },
        "id": "Lo04t_IDzyaq",
        "outputId": "3f872506-f236-404e-e73d-7161242c0c42"
      },
      "source": [
        "''' checking null valeus '''\n",
        "df.isnull().sum()"
      ],
      "execution_count": 5,
      "outputs": [
        {
          "output_type": "execute_result",
          "data": {
            "text/plain": [
              "id                     0\n",
              "sex                    0\n",
              "patient_type           0\n",
              "entry_date             0\n",
              "date_symptoms          0\n",
              "date_died              0\n",
              "intubed                0\n",
              "pneumonia              0\n",
              "age                    0\n",
              "pregnancy              0\n",
              "diabetes               0\n",
              "copd                   0\n",
              "asthma                 0\n",
              "inmsupr                0\n",
              "hypertension           0\n",
              "other_disease          0\n",
              "cardiovascular         0\n",
              "obesity                0\n",
              "renal_chronic          0\n",
              "tobacco                0\n",
              "contact_other_covid    0\n",
              "covid_res              0\n",
              "icu                    0\n",
              "dtype: int64"
            ]
          },
          "metadata": {},
          "execution_count": 5
        }
      ]
    },
    {
      "cell_type": "code",
      "metadata": {
        "id": "_ZuU38AVzyar"
      },
      "source": [
        "''' dropping unwanted rows '''\n",
        "\n",
        "df.drop(['id','patient_type','pregnancy','contact_other_covid','other_disease'],inplace=True,axis=1)"
      ],
      "execution_count": 6,
      "outputs": []
    },
    {
      "cell_type": "code",
      "metadata": {
        "id": "F1GOOBNKzyas"
      },
      "source": [
        "''' creating new column '''\n",
        "\n",
        "df['new_column'] = (df['entry_date'] - df['date_symptoms']).dt.days\n",
        "df['dead']='1'\n",
        "df.loc[df['date_died'] == '9999-99-99','dead']='0'\n",
        "\n",
        "''' dropping columns '''\n",
        "df.drop(['entry_date','date_symptoms','date_died'],inplace=True,axis=1)\n",
        "\n",
        "''' changing datatype '''\n",
        "df = df.astype('int8')"
      ],
      "execution_count": 7,
      "outputs": []
    },
    {
      "cell_type": "code",
      "metadata": {
        "id": "WigbQlzGzyav"
      },
      "source": [
        "''' dropping null values '''\n",
        "\n",
        "df = df.loc[(df['sex'] <= 2) & (df['intubed'] <= 2) & (df['pneumonia'] <= 2) & (df['diabetes'] <= 2) & \n",
        "            (df['copd'] <= 2) & (df['asthma'] <= 2) & (df['inmsupr'] <= 2) & (df['hypertension'] <= 2) & \n",
        "            (df['cardiovascular'] <= 2) & (df['obesity'] <= 2) & (df['renal_chronic'] <= 2) & (df['tobacco'] <= 2) &\n",
        "            (df['covid_res'] <= 2) & (df['dead'] <= 2) & (df['icu'] <= 2) & (df['new_column'] >= 0), \n",
        "            ['sex','age','inmsupr','pneumonia','diabetes','asthma','copd','hypertension','cardiovascular',\n",
        "             'renal_chronic','obesity','tobacco','new_column','covid_res','intubed','icu','dead']]"
      ],
      "execution_count": 8,
      "outputs": []
    },
    {
      "cell_type": "code",
      "metadata": {
        "id": "LH4vIrFQzyax"
      },
      "source": [
        "''' changing values of NO from  2 to 0'''\n",
        "\n",
        "df.loc[df['sex']==2,'sex']=0\n",
        "\n",
        "df.loc[df['inmsupr']==2,'inmsupr']=0\n",
        "\n",
        "df.loc[df['pneumonia']==2,'pneumonia']=0\n",
        "\n",
        "df.loc[df['diabetes']==2,'diabetes']=0\n",
        "\n",
        "df.loc[df['asthma']==2,'asthma']=0\n",
        "\n",
        "df.loc[df['copd']==2,'copd']=0\n",
        "\n",
        "df.loc[df['hypertension']==2,'hypertension']=0\n",
        "\n",
        "df.loc[df['cardiovascular']==2,'cardiovascular']=0\n",
        "\n",
        "df.loc[df['renal_chronic']==2,'renal_chronic']=0\n",
        "\n",
        "df.loc[df['obesity']==2,'obesity']=0\n",
        "\n",
        "df.loc[df['tobacco']==2,'tobacco']=0\n",
        "\n",
        "df.loc[df['intubed']==2,'intubed']=0\n",
        "\n",
        "df.loc[df['icu']==2,'icu']=0\n",
        "\n",
        "df.loc[df['covid_res']==2,'covid_res']=0"
      ],
      "execution_count": 9,
      "outputs": []
    },
    {
      "cell_type": "code",
      "metadata": {
        "colab": {
          "base_uri": "https://localhost:8080/",
          "height": 204
        },
        "id": "T51YWh09zyaz",
        "outputId": "3352220c-f1d7-474d-bf1c-2e73487ad721"
      },
      "source": [
        "''' new df looks like '''\n",
        "df.head()"
      ],
      "execution_count": 10,
      "outputs": [
        {
          "output_type": "execute_result",
          "data": {
            "text/html": [
              "<div>\n",
              "<style scoped>\n",
              "    .dataframe tbody tr th:only-of-type {\n",
              "        vertical-align: middle;\n",
              "    }\n",
              "\n",
              "    .dataframe tbody tr th {\n",
              "        vertical-align: top;\n",
              "    }\n",
              "\n",
              "    .dataframe thead th {\n",
              "        text-align: right;\n",
              "    }\n",
              "</style>\n",
              "<table border=\"1\" class=\"dataframe\">\n",
              "  <thead>\n",
              "    <tr style=\"text-align: right;\">\n",
              "      <th></th>\n",
              "      <th>sex</th>\n",
              "      <th>age</th>\n",
              "      <th>inmsupr</th>\n",
              "      <th>pneumonia</th>\n",
              "      <th>diabetes</th>\n",
              "      <th>asthma</th>\n",
              "      <th>copd</th>\n",
              "      <th>hypertension</th>\n",
              "      <th>cardiovascular</th>\n",
              "      <th>renal_chronic</th>\n",
              "      <th>obesity</th>\n",
              "      <th>tobacco</th>\n",
              "      <th>new_column</th>\n",
              "      <th>covid_res</th>\n",
              "      <th>intubed</th>\n",
              "      <th>icu</th>\n",
              "      <th>dead</th>\n",
              "    </tr>\n",
              "  </thead>\n",
              "  <tbody>\n",
              "    <tr>\n",
              "      <th>3</th>\n",
              "      <td>0</td>\n",
              "      <td>30</td>\n",
              "      <td>0</td>\n",
              "      <td>1</td>\n",
              "      <td>0</td>\n",
              "      <td>0</td>\n",
              "      <td>0</td>\n",
              "      <td>0</td>\n",
              "      <td>0</td>\n",
              "      <td>0</td>\n",
              "      <td>0</td>\n",
              "      <td>0</td>\n",
              "      <td>86</td>\n",
              "      <td>1</td>\n",
              "      <td>0</td>\n",
              "      <td>0</td>\n",
              "      <td>0</td>\n",
              "    </tr>\n",
              "    <tr>\n",
              "      <th>4</th>\n",
              "      <td>1</td>\n",
              "      <td>60</td>\n",
              "      <td>0</td>\n",
              "      <td>0</td>\n",
              "      <td>1</td>\n",
              "      <td>0</td>\n",
              "      <td>0</td>\n",
              "      <td>1</td>\n",
              "      <td>1</td>\n",
              "      <td>0</td>\n",
              "      <td>0</td>\n",
              "      <td>0</td>\n",
              "      <td>0</td>\n",
              "      <td>1</td>\n",
              "      <td>0</td>\n",
              "      <td>0</td>\n",
              "      <td>1</td>\n",
              "    </tr>\n",
              "    <tr>\n",
              "      <th>5</th>\n",
              "      <td>0</td>\n",
              "      <td>47</td>\n",
              "      <td>0</td>\n",
              "      <td>1</td>\n",
              "      <td>1</td>\n",
              "      <td>0</td>\n",
              "      <td>0</td>\n",
              "      <td>0</td>\n",
              "      <td>0</td>\n",
              "      <td>0</td>\n",
              "      <td>0</td>\n",
              "      <td>0</td>\n",
              "      <td>0</td>\n",
              "      <td>1</td>\n",
              "      <td>0</td>\n",
              "      <td>1</td>\n",
              "      <td>1</td>\n",
              "    </tr>\n",
              "    <tr>\n",
              "      <th>6</th>\n",
              "      <td>0</td>\n",
              "      <td>63</td>\n",
              "      <td>0</td>\n",
              "      <td>0</td>\n",
              "      <td>0</td>\n",
              "      <td>0</td>\n",
              "      <td>0</td>\n",
              "      <td>1</td>\n",
              "      <td>0</td>\n",
              "      <td>0</td>\n",
              "      <td>0</td>\n",
              "      <td>0</td>\n",
              "      <td>9</td>\n",
              "      <td>1</td>\n",
              "      <td>0</td>\n",
              "      <td>0</td>\n",
              "      <td>0</td>\n",
              "    </tr>\n",
              "    <tr>\n",
              "      <th>9</th>\n",
              "      <td>1</td>\n",
              "      <td>39</td>\n",
              "      <td>0</td>\n",
              "      <td>1</td>\n",
              "      <td>0</td>\n",
              "      <td>0</td>\n",
              "      <td>0</td>\n",
              "      <td>0</td>\n",
              "      <td>0</td>\n",
              "      <td>0</td>\n",
              "      <td>1</td>\n",
              "      <td>0</td>\n",
              "      <td>5</td>\n",
              "      <td>1</td>\n",
              "      <td>1</td>\n",
              "      <td>0</td>\n",
              "      <td>0</td>\n",
              "    </tr>\n",
              "  </tbody>\n",
              "</table>\n",
              "</div>"
            ],
            "text/plain": [
              "   sex  age  inmsupr  pneumonia  diabetes  asthma  copd  hypertension  \\\n",
              "3    0   30        0          1         0       0     0             0   \n",
              "4    1   60        0          0         1       0     0             1   \n",
              "5    0   47        0          1         1       0     0             0   \n",
              "6    0   63        0          0         0       0     0             1   \n",
              "9    1   39        0          1         0       0     0             0   \n",
              "\n",
              "   cardiovascular  renal_chronic  obesity  tobacco  new_column  covid_res  \\\n",
              "3               0              0        0        0          86          1   \n",
              "4               1              0        0        0           0          1   \n",
              "5               0              0        0        0           0          1   \n",
              "6               0              0        0        0           9          1   \n",
              "9               0              0        1        0           5          1   \n",
              "\n",
              "   intubed  icu  dead  \n",
              "3        0    0     0  \n",
              "4        0    0     1  \n",
              "5        0    1     1  \n",
              "6        0    0     0  \n",
              "9        1    0     0  "
            ]
          },
          "metadata": {},
          "execution_count": 10
        }
      ]
    },
    {
      "cell_type": "code",
      "metadata": {
        "id": "1uMPmkP2zya2"
      },
      "source": [
        "''' considering only patients who are tested positive to covid '''\n",
        "df = df.loc[df['covid_res'] == 1, ['sex','age','inmsupr','pneumonia','diabetes','asthma','copd','hypertension',\n",
        "                                   'cardiovascular','renal_chronic','obesity','tobacco','new_column',\n",
        "                                   'covid_res','intubed','icu','dead']]"
      ],
      "execution_count": 11,
      "outputs": []
    },
    {
      "cell_type": "code",
      "metadata": {
        "id": "2GMRqAy5zya4"
      },
      "source": [
        "''' independent and dependent features '''\n",
        "X = df.drop(['icu','covid_res','dead','intubed'], axis=1)\n",
        "y = df['icu']"
      ],
      "execution_count": 12,
      "outputs": []
    },
    {
      "cell_type": "code",
      "metadata": {
        "colab": {
          "base_uri": "https://localhost:8080/"
        },
        "id": "VHov3Fxszya6",
        "outputId": "aa917741-b512-4a49-c301-4e8f2de60f0a"
      },
      "source": [
        "''' value counts of y '''\n",
        "y.value_counts()"
      ],
      "execution_count": 13,
      "outputs": [
        {
          "output_type": "execute_result",
          "data": {
            "text/plain": [
              "0    49279\n",
              "1     4276\n",
              "Name: icu, dtype: int64"
            ]
          },
          "metadata": {},
          "execution_count": 13
        }
      ]
    },
    {
      "cell_type": "code",
      "metadata": {
        "id": "Z6QOF_hQzya7"
      },
      "source": [
        "''' SMOTE to overcome the situation of imbalanced data '''\n",
        "smote = SMOTE(random_state=42)\n",
        "\n",
        "''' fit on X and y'''\n",
        "X_smote, y_smote = smote.fit_resample(X, y)"
      ],
      "execution_count": 14,
      "outputs": []
    },
    {
      "cell_type": "code",
      "metadata": {
        "colab": {
          "base_uri": "https://localhost:8080/",
          "height": 180
        },
        "id": "1k8JZe4Rzya8",
        "outputId": "e62e146c-26b1-4233-af96-aa1a44035f16"
      },
      "source": [
        "''' again value counts of y '''\n",
        "y_smote.value_counts()"
      ],
      "execution_count": 15,
      "outputs": [
        {
          "output_type": "error",
          "ename": "AttributeError",
          "evalue": "ignored",
          "traceback": [
            "\u001b[0;31m---------------------------------------------------------------------------\u001b[0m",
            "\u001b[0;31mAttributeError\u001b[0m                            Traceback (most recent call last)",
            "\u001b[0;32m<ipython-input-15-aff40cfc21af>\u001b[0m in \u001b[0;36m<module>\u001b[0;34m()\u001b[0m\n\u001b[1;32m      1\u001b[0m \u001b[0;34m''' again value counts of y '''\u001b[0m\u001b[0;34m\u001b[0m\u001b[0;34m\u001b[0m\u001b[0m\n\u001b[0;32m----> 2\u001b[0;31m \u001b[0my_smote\u001b[0m\u001b[0;34m.\u001b[0m\u001b[0mvalue_counts\u001b[0m\u001b[0;34m(\u001b[0m\u001b[0;34m)\u001b[0m\u001b[0;34m\u001b[0m\u001b[0;34m\u001b[0m\u001b[0m\n\u001b[0m",
            "\u001b[0;31mAttributeError\u001b[0m: 'numpy.ndarray' object has no attribute 'value_counts'"
          ]
        }
      ]
    },
    {
      "cell_type": "code",
      "metadata": {
        "id": "m3xWEiutzya8"
      },
      "source": [
        "''' train test split '''\n",
        "X_train, X_test, y_train, y_test = train_test_split(X_smote, y_smote, test_size=0.25, random_state=0)"
      ],
      "execution_count": 16,
      "outputs": []
    },
    {
      "cell_type": "code",
      "metadata": {
        "colab": {
          "base_uri": "https://localhost:8080/"
        },
        "id": "_uH91i7Szya9",
        "outputId": "bb61b22a-2d1d-4fb2-f3f8-ff8ee7b36b02"
      },
      "source": [
        "print('X_train shape: ', X_train.shape)\n",
        "print('X_test shape: ', X_test.shape)"
      ],
      "execution_count": 17,
      "outputs": [
        {
          "output_type": "stream",
          "name": "stdout",
          "text": [
            "X_train shape:  (73918, 13)\n",
            "X_test shape:  (24640, 13)\n"
          ]
        }
      ]
    },
    {
      "cell_type": "code",
      "metadata": {
        "id": "mIkJ4arVzya_"
      },
      "source": [
        "def evaluation_fun():\n",
        "    print(\"train Accuracy = {}\".format(accuracy_score(y_train, model.predict(X_train))))\n",
        "    print(\"test Accuracy = {}\".format(accuracy_score(y_test, results)))\n",
        "    print(\"Confusion Matrix\")\n",
        "    print(confusion_matrix(y_test, results))\n",
        "    print(\"Classification Report\")\n",
        "    print(classification_report(y_test, results))"
      ],
      "execution_count": 18,
      "outputs": []
    },
    {
      "cell_type": "code",
      "metadata": {
        "id": "c5ewhkolzybA"
      },
      "source": [
        "''' Random Forest '''\n",
        "model = RandomForestClassifier()\n",
        "\n",
        "''' fit on data '''\n",
        "model.fit(X_train, y_train)\n",
        "\n",
        "''' prediction '''\n",
        "results = model.predict(X_test)"
      ],
      "execution_count": 19,
      "outputs": []
    },
    {
      "cell_type": "code",
      "metadata": {
        "colab": {
          "base_uri": "https://localhost:8080/"
        },
        "id": "fiFbCWf3zybB",
        "outputId": "f582c441-0588-484a-edc0-cc425eb3651f"
      },
      "source": [
        "''' results of rf '''\n",
        "evaluation_fun()"
      ],
      "execution_count": 20,
      "outputs": [
        {
          "output_type": "stream",
          "name": "stdout",
          "text": [
            "train Accuracy = 0.8973862929191807\n",
            "test Accuracy = 0.833887987012987\n",
            "Confusion Matrix\n",
            "[[ 9458  2761]\n",
            " [ 1332 11089]]\n",
            "Classification Report\n",
            "              precision    recall  f1-score   support\n",
            "\n",
            "           0       0.88      0.77      0.82     12219\n",
            "           1       0.80      0.89      0.84     12421\n",
            "\n",
            "    accuracy                           0.83     24640\n",
            "   macro avg       0.84      0.83      0.83     24640\n",
            "weighted avg       0.84      0.83      0.83     24640\n",
            "\n"
          ]
        }
      ]
    },
    {
      "cell_type": "code",
      "metadata": {
        "id": "IrGA94fWzybC"
      },
      "source": [
        "''' xgboost '''\n",
        "model = XGBClassifier()\n",
        "\n",
        "''' fit on data '''\n",
        "model.fit(X_train, y_train)\n",
        "\n",
        "''' prediction '''\n",
        "results = model.predict(X_test)"
      ],
      "execution_count": 21,
      "outputs": []
    },
    {
      "cell_type": "code",
      "metadata": {
        "colab": {
          "base_uri": "https://localhost:8080/"
        },
        "id": "r8X-Ov8hzybD",
        "outputId": "0f9d1323-1515-4fb3-ec8f-d1d3328278a1"
      },
      "source": [
        "evaluation_fun()"
      ],
      "execution_count": 22,
      "outputs": [
        {
          "output_type": "stream",
          "name": "stdout",
          "text": [
            "train Accuracy = 0.6994236857057821\n",
            "test Accuracy = 0.7015016233766234\n",
            "Confusion Matrix\n",
            "[[8230 3989]\n",
            " [3366 9055]]\n",
            "Classification Report\n",
            "              precision    recall  f1-score   support\n",
            "\n",
            "           0       0.71      0.67      0.69     12219\n",
            "           1       0.69      0.73      0.71     12421\n",
            "\n",
            "    accuracy                           0.70     24640\n",
            "   macro avg       0.70      0.70      0.70     24640\n",
            "weighted avg       0.70      0.70      0.70     24640\n",
            "\n"
          ]
        }
      ]
    },
    {
      "cell_type": "code",
      "metadata": {
        "id": "Qgt8fy2yzybE"
      },
      "source": [
        "''' KNN without hyperparameter tunning '''\n",
        "model = KNeighborsClassifier()\n",
        "\n",
        "''' fit on data '''\n",
        "model.fit(X_train, y_train)\n",
        "\n",
        "''' prediction '''\n",
        "results = model.predict(X_test)"
      ],
      "execution_count": 23,
      "outputs": []
    },
    {
      "cell_type": "code",
      "metadata": {
        "colab": {
          "base_uri": "https://localhost:8080/"
        },
        "id": "tA02tZL6zybF",
        "outputId": "721767d2-3a47-43be-a4eb-bf0487d913c2"
      },
      "source": [
        "evaluation_fun()"
      ],
      "execution_count": 24,
      "outputs": [
        {
          "output_type": "stream",
          "name": "stdout",
          "text": [
            "train Accuracy = 0.820612029546254\n",
            "test Accuracy = 0.7657061688311688\n",
            "Confusion Matrix\n",
            "[[ 7799  4420]\n",
            " [ 1353 11068]]\n",
            "Classification Report\n",
            "              precision    recall  f1-score   support\n",
            "\n",
            "           0       0.85      0.64      0.73     12219\n",
            "           1       0.71      0.89      0.79     12421\n",
            "\n",
            "    accuracy                           0.77     24640\n",
            "   macro avg       0.78      0.76      0.76     24640\n",
            "weighted avg       0.78      0.77      0.76     24640\n",
            "\n"
          ]
        }
      ]
    },
    {
      "cell_type": "code",
      "metadata": {
        "id": "P2SSFsh_zybF"
      },
      "source": [
        "''' ADA BOOST without hyper parameter tunning'''\n",
        "model = AdaBoostClassifier()\n",
        "\n",
        "''' fit on data '''\n",
        "model.fit(X_train, y_train)\n",
        "\n",
        "''' prediction '''\n",
        "results = model.predict(X_test)"
      ],
      "execution_count": 25,
      "outputs": []
    },
    {
      "cell_type": "code",
      "metadata": {
        "colab": {
          "base_uri": "https://localhost:8080/"
        },
        "id": "hP1IytdkzybG",
        "outputId": "9bf1a64b-977c-4d4c-d922-6a1d8c70eda6"
      },
      "source": [
        "evaluation_fun()"
      ],
      "execution_count": 26,
      "outputs": [
        {
          "output_type": "stream",
          "name": "stdout",
          "text": [
            "train Accuracy = 0.6859222381557942\n",
            "test Accuracy = 0.6905438311688312\n",
            "Confusion Matrix\n",
            "[[7973 4246]\n",
            " [3379 9042]]\n",
            "Classification Report\n",
            "              precision    recall  f1-score   support\n",
            "\n",
            "           0       0.70      0.65      0.68     12219\n",
            "           1       0.68      0.73      0.70     12421\n",
            "\n",
            "    accuracy                           0.69     24640\n",
            "   macro avg       0.69      0.69      0.69     24640\n",
            "weighted avg       0.69      0.69      0.69     24640\n",
            "\n"
          ]
        }
      ]
    },
    {
      "cell_type": "code",
      "metadata": {
        "id": "HuXNe5dQzybG"
      },
      "source": [
        "''' Gradient Boost with hyperparameter tunnig '''\n",
        "model = GradientBoostingClassifier(max_features='auto', loss='deviance',learning_rate=0.3, \n",
        "                                   max_depth=8,min_samples_leaf=3,min_samples_split=0.1, n_estimators=400, subsample=0.4)\n",
        "\n",
        "''' fit on data '''\n",
        "model.fit(X_train, y_train)\n",
        "\n",
        "''' prediction '''\n",
        "results = model.predict(X_test)"
      ],
      "execution_count": 27,
      "outputs": []
    },
    {
      "cell_type": "code",
      "metadata": {
        "colab": {
          "base_uri": "https://localhost:8080/"
        },
        "id": "4BChTHwYzybH",
        "outputId": "576509de-7081-45a5-e26f-78b5da44c045"
      },
      "source": [
        "evaluation_fun()"
      ],
      "execution_count": 28,
      "outputs": [
        {
          "output_type": "stream",
          "name": "stdout",
          "text": [
            "train Accuracy = 0.721867474769339\n",
            "test Accuracy = 0.7153814935064935\n",
            "Confusion Matrix\n",
            "[[8470 3749]\n",
            " [3264 9157]]\n",
            "Classification Report\n",
            "              precision    recall  f1-score   support\n",
            "\n",
            "           0       0.72      0.69      0.71     12219\n",
            "           1       0.71      0.74      0.72     12421\n",
            "\n",
            "    accuracy                           0.72     24640\n",
            "   macro avg       0.72      0.72      0.72     24640\n",
            "weighted avg       0.72      0.72      0.72     24640\n",
            "\n"
          ]
        }
      ]
    },
    {
      "cell_type": "code",
      "metadata": {
        "id": "PxauAFbRzybI"
      },
      "source": [
        "''' Gradient Boosting without hyper parameter tunning '''\n",
        "model = GradientBoostingClassifier()\n",
        "\n",
        "''' fit on data '''\n",
        "model.fit(X_train, y_train)\n",
        "\n",
        "''' prediction '''\n",
        "results = model.predict(X_test)"
      ],
      "execution_count": 29,
      "outputs": []
    },
    {
      "cell_type": "code",
      "metadata": {
        "colab": {
          "base_uri": "https://localhost:8080/"
        },
        "id": "etC4ZBRKzybJ",
        "outputId": "bb6053f1-c3db-4e9c-8c7d-6bd56b5b1a44"
      },
      "source": [
        "evaluation_fun()"
      ],
      "execution_count": 30,
      "outputs": [
        {
          "output_type": "stream",
          "name": "stdout",
          "text": [
            "train Accuracy = 0.6997348413106416\n",
            "test Accuracy = 0.7023944805194805\n",
            "Confusion Matrix\n",
            "[[8266 3953]\n",
            " [3380 9041]]\n",
            "Classification Report\n",
            "              precision    recall  f1-score   support\n",
            "\n",
            "           0       0.71      0.68      0.69     12219\n",
            "           1       0.70      0.73      0.71     12421\n",
            "\n",
            "    accuracy                           0.70     24640\n",
            "   macro avg       0.70      0.70      0.70     24640\n",
            "weighted avg       0.70      0.70      0.70     24640\n",
            "\n"
          ]
        }
      ]
    },
    {
      "cell_type": "code",
      "metadata": {
        "id": "uo1UNi8QzybK"
      },
      "source": [
        "''' KNN with hyper parameter tunning '''\n",
        "model = KNeighborsClassifier(n_neighbors=5,weights='distance',p=1,metric='minkowski')\n",
        "\n",
        "''' fit on data '''\n",
        "model.fit(X_train, y_train)\n",
        "\n",
        "''' prediction '''\n",
        "results = model.predict(X_test)"
      ],
      "execution_count": 31,
      "outputs": []
    },
    {
      "cell_type": "code",
      "metadata": {
        "colab": {
          "base_uri": "https://localhost:8080/"
        },
        "id": "h5byyJ0AzybK",
        "outputId": "cb7e772d-f4d3-4ca7-f235-45a97e8e2da4"
      },
      "source": [
        "evaluation_fun()"
      ],
      "execution_count": 32,
      "outputs": [
        {
          "output_type": "stream",
          "name": "stdout",
          "text": [
            "train Accuracy = 0.8881192672961931\n",
            "test Accuracy = 0.7883522727272727\n",
            "Confusion Matrix\n",
            "[[ 8443  3776]\n",
            " [ 1439 10982]]\n",
            "Classification Report\n",
            "              precision    recall  f1-score   support\n",
            "\n",
            "           0       0.85      0.69      0.76     12219\n",
            "           1       0.74      0.88      0.81     12421\n",
            "\n",
            "    accuracy                           0.79     24640\n",
            "   macro avg       0.80      0.79      0.79     24640\n",
            "weighted avg       0.80      0.79      0.79     24640\n",
            "\n"
          ]
        }
      ]
    },
    {
      "cell_type": "code",
      "metadata": {
        "id": "O59aPgojzybK"
      },
      "source": [
        "''' ADA Boost with hyper parameter tunning '''\n",
        "model = AdaBoostClassifier(n_estimators= 9000)\n",
        "\n",
        "''' fit on data '''\n",
        "model.fit(X_train, y_train)\n",
        "\n",
        "''' prediction '''\n",
        "results = model.predict(X_test)"
      ],
      "execution_count": 33,
      "outputs": []
    },
    {
      "cell_type": "code",
      "metadata": {
        "colab": {
          "base_uri": "https://localhost:8080/"
        },
        "id": "ZyGAP5oEzybL",
        "outputId": "b2213012-d02d-4359-d701-67160121b864"
      },
      "source": [
        "evaluation_fun()"
      ],
      "execution_count": 34,
      "outputs": [
        {
          "output_type": "stream",
          "name": "stdout",
          "text": [
            "train Accuracy = 0.6934035011769799\n",
            "test Accuracy = 0.6976055194805195\n",
            "Confusion Matrix\n",
            "[[8011 4208]\n",
            " [3243 9178]]\n",
            "Classification Report\n",
            "              precision    recall  f1-score   support\n",
            "\n",
            "           0       0.71      0.66      0.68     12219\n",
            "           1       0.69      0.74      0.71     12421\n",
            "\n",
            "    accuracy                           0.70     24640\n",
            "   macro avg       0.70      0.70      0.70     24640\n",
            "weighted avg       0.70      0.70      0.70     24640\n",
            "\n"
          ]
        }
      ]
    },
    {
      "cell_type": "code",
      "metadata": {
        "id": "xZeQ79EBzybL"
      },
      "source": [
        "''' SVM '''\n",
        "model = SVC()\n",
        "\n",
        "''' fit on data '''\n",
        "model.fit(X_train, y_train)\n",
        "\n",
        "''' prediction '''\n",
        "results = model.predict(X_test)"
      ],
      "execution_count": 35,
      "outputs": []
    },
    {
      "cell_type": "code",
      "metadata": {
        "colab": {
          "base_uri": "https://localhost:8080/"
        },
        "id": "2buyaaKnzybM",
        "outputId": "8b9de3f8-a1cb-4a5d-abf4-f2f1d73738a4"
      },
      "source": [
        "evaluation_fun()"
      ],
      "execution_count": 36,
      "outputs": [
        {
          "output_type": "stream",
          "name": "stdout",
          "text": [
            "train Accuracy = 0.6654536107578668\n",
            "test Accuracy = 0.6699269480519481\n",
            "Confusion Matrix\n",
            "[[6951 5268]\n",
            " [2865 9556]]\n",
            "Classification Report\n",
            "              precision    recall  f1-score   support\n",
            "\n",
            "           0       0.71      0.57      0.63     12219\n",
            "           1       0.64      0.77      0.70     12421\n",
            "\n",
            "    accuracy                           0.67     24640\n",
            "   macro avg       0.68      0.67      0.67     24640\n",
            "weighted avg       0.68      0.67      0.67     24640\n",
            "\n"
          ]
        }
      ]
    }
  ]
}