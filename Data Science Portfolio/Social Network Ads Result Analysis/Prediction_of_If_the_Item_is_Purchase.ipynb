{
  "nbformat": 4,
  "nbformat_minor": 5,
  "metadata": {
    "kernelspec": {
      "display_name": "Python 3",
      "language": "python",
      "name": "python3"
    },
    "language_info": {
      "codemirror_mode": {
        "name": "ipython",
        "version": 3
      },
      "file_extension": ".py",
      "mimetype": "text/x-python",
      "name": "python",
      "nbconvert_exporter": "python",
      "pygments_lexer": "ipython3",
      "version": "3.8.8"
    },
    "papermill": {
      "default_parameters": {},
      "duration": 29.64106,
      "end_time": "2021-06-27T05:44:28.434722",
      "environment_variables": {},
      "exception": null,
      "input_path": "__notebook__.ipynb",
      "output_path": "__notebook__.ipynb",
      "parameters": {},
      "start_time": "2021-06-27T05:43:58.793662",
      "version": "2.3.2"
    },
    "colab": {
      "name": "Prediction of If the Item is Purchase.ipynb",
      "provenance": [],
      "collapsed_sections": []
    }
  },
  "cells": [
    {
      "cell_type": "markdown",
      "metadata": {
        "id": "national-cross",
        "papermill": {
          "duration": 0.048734,
          "end_time": "2021-06-27T05:44:05.326511",
          "exception": false,
          "start_time": "2021-06-27T05:44:05.277777",
          "status": "completed"
        },
        "tags": []
      },
      "source": [
        "# Prediction of if the Item is purchase from the Ads"
      ],
      "id": "national-cross"
    },
    {
      "cell_type": "markdown",
      "metadata": {
        "id": "polar-dubai",
        "papermill": {
          "duration": 0.049067,
          "end_time": "2021-06-27T05:44:05.423372",
          "exception": false,
          "start_time": "2021-06-27T05:44:05.374305",
          "status": "completed"
        },
        "tags": []
      },
      "source": [
        "This notebook is a work flow for various Python-based machine learning model for predicting if the item is purchase from the ad"
      ],
      "id": "polar-dubai"
    },
    {
      "cell_type": "markdown",
      "metadata": {
        "id": "monthly-stack",
        "papermill": {
          "duration": 0.046357,
          "end_time": "2021-06-27T05:44:05.517126",
          "exception": false,
          "start_time": "2021-06-27T05:44:05.470769",
          "status": "completed"
        },
        "tags": []
      },
      "source": [
        "Going to take the following approach:\n",
        "\n",
        "1. Problem definition\n",
        "2. Data\n",
        "3. Evaluation\n",
        "4. Features\n",
        "5. Modelling\n",
        "6. Model Evaluation"
      ],
      "id": "monthly-stack"
    },
    {
      "cell_type": "markdown",
      "metadata": {
        "id": "therapeutic-momentum",
        "papermill": {
          "duration": 0.04581,
          "end_time": "2021-06-27T05:44:05.609126",
          "exception": false,
          "start_time": "2021-06-27T05:44:05.563316",
          "status": "completed"
        },
        "tags": []
      },
      "source": [
        "# 1. Problem Definition\n",
        "\n",
        "How we can use various python based Machine Learning Model to and the given parameters to predict the if th ad is shown will the item be purchase?\n"
      ],
      "id": "therapeutic-momentum"
    },
    {
      "cell_type": "markdown",
      "metadata": {
        "id": "horizontal-legislature",
        "papermill": {
          "duration": 0.046552,
          "end_time": "2021-06-27T05:44:05.701669",
          "exception": false,
          "start_time": "2021-06-27T05:44:05.655117",
          "status": "completed"
        },
        "tags": []
      },
      "source": [
        "# 2. Data\n",
        "\n",
        "Dataset from: https://www.kaggle.com/d4rklucif3r/social-network-ads\n",
        "\n",
        "The Dataset used in these models tells about whether a person of certain age having certain income purchases a product or not.\n",
        "We need to predict whether a targeted audience will purchase the product or not."
      ],
      "id": "horizontal-legislature"
    },
    {
      "cell_type": "markdown",
      "metadata": {
        "id": "historical-aberdeen",
        "papermill": {
          "duration": 0.047366,
          "end_time": "2021-06-27T05:44:05.795085",
          "exception": false,
          "start_time": "2021-06-27T05:44:05.747719",
          "status": "completed"
        },
        "tags": []
      },
      "source": [
        "# 3. Evaluation\n",
        "\n",
        "It will be done with the Classification Metrics."
      ],
      "id": "historical-aberdeen"
    },
    {
      "cell_type": "markdown",
      "metadata": {
        "id": "wireless-turkish",
        "papermill": {
          "duration": 0.047803,
          "end_time": "2021-06-27T05:44:05.890659",
          "exception": false,
          "start_time": "2021-06-27T05:44:05.842856",
          "status": "completed"
        },
        "tags": []
      },
      "source": [
        "# 4. Features\n",
        "\n",
        "## Input /  Features\n",
        "    1. Age - Age of the Person\n",
        "    2. EstimatedSalary - Estimated Salary of Person\n",
        "\n",
        "## Output / Label\n",
        "    3. PurchasedItem - Purchased or Not"
      ],
      "id": "wireless-turkish"
    },
    {
      "cell_type": "markdown",
      "metadata": {
        "id": "selective-color",
        "papermill": {
          "duration": 0.046815,
          "end_time": "2021-06-27T05:44:05.983760",
          "exception": false,
          "start_time": "2021-06-27T05:44:05.936945",
          "status": "completed"
        },
        "tags": []
      },
      "source": [
        "## Standard Imports"
      ],
      "id": "selective-color"
    },
    {
      "cell_type": "code",
      "metadata": {
        "execution": {
          "iopub.execute_input": "2021-06-27T05:44:06.086214Z",
          "iopub.status.busy": "2021-06-27T05:44:06.085552Z",
          "iopub.status.idle": "2021-06-27T05:44:07.027327Z",
          "shell.execute_reply": "2021-06-27T05:44:07.027898Z",
          "shell.execute_reply.started": "2021-06-27T05:32:45.665272Z"
        },
        "id": "advisory-procurement",
        "papermill": {
          "duration": 0.997077,
          "end_time": "2021-06-27T05:44:07.028206",
          "exception": false,
          "start_time": "2021-06-27T05:44:06.031129",
          "status": "completed"
        },
        "tags": []
      },
      "source": [
        "import pandas as pd\n",
        "import numpy as np\n",
        "import matplotlib.pyplot as plt\n",
        "import seaborn as sns"
      ],
      "id": "advisory-procurement",
      "execution_count": 1,
      "outputs": []
    },
    {
      "cell_type": "code",
      "metadata": {
        "execution": {
          "iopub.execute_input": "2021-06-27T05:44:07.364069Z",
          "iopub.status.busy": "2021-06-27T05:44:07.363364Z",
          "iopub.status.idle": "2021-06-27T05:44:07.384167Z",
          "shell.execute_reply": "2021-06-27T05:44:07.384656Z",
          "shell.execute_reply.started": "2021-06-27T05:32:45.731937Z"
        },
        "id": "otherwise-backup",
        "papermill": {
          "duration": 0.072544,
          "end_time": "2021-06-27T05:44:07.384848",
          "exception": false,
          "start_time": "2021-06-27T05:44:07.312304",
          "status": "completed"
        },
        "tags": []
      },
      "source": [
        "# local\n",
        "df = pd.read_csv('https://firebasestorage.googleapis.com/v0/b/budi-23.appspot.com/o/dataset%2FSocial%20Network%20Ads%20Result%20Analysis%2FSocial_Network_Ads.csv?alt=media&token=c98cd8e0-8139-4f4c-b26e-dd237922891b')\n"
      ],
      "id": "otherwise-backup",
      "execution_count": 2,
      "outputs": []
    },
    {
      "cell_type": "markdown",
      "metadata": {
        "id": "smaller-arizona",
        "papermill": {
          "duration": 0.048057,
          "end_time": "2021-06-27T05:44:07.489315",
          "exception": false,
          "start_time": "2021-06-27T05:44:07.441258",
          "status": "completed"
        },
        "tags": []
      },
      "source": [
        "## Data Exporation"
      ],
      "id": "smaller-arizona"
    },
    {
      "cell_type": "code",
      "metadata": {
        "execution": {
          "iopub.execute_input": "2021-06-27T05:44:07.592341Z",
          "iopub.status.busy": "2021-06-27T05:44:07.591328Z",
          "iopub.status.idle": "2021-06-27T05:44:07.620753Z",
          "shell.execute_reply": "2021-06-27T05:44:07.621363Z",
          "shell.execute_reply.started": "2021-06-27T05:32:45.764014Z"
        },
        "id": "sound-medicaid",
        "papermill": {
          "duration": 0.080784,
          "end_time": "2021-06-27T05:44:07.621556",
          "exception": false,
          "start_time": "2021-06-27T05:44:07.540772",
          "status": "completed"
        },
        "tags": [],
        "colab": {
          "base_uri": "https://localhost:8080/",
          "height": 419
        },
        "outputId": "8c7fe549-2c6d-45a5-e7d4-824ac3876bd4"
      },
      "source": [
        "df"
      ],
      "id": "sound-medicaid",
      "execution_count": 3,
      "outputs": [
        {
          "output_type": "execute_result",
          "data": {
            "text/html": [
              "<div>\n",
              "<style scoped>\n",
              "    .dataframe tbody tr th:only-of-type {\n",
              "        vertical-align: middle;\n",
              "    }\n",
              "\n",
              "    .dataframe tbody tr th {\n",
              "        vertical-align: top;\n",
              "    }\n",
              "\n",
              "    .dataframe thead th {\n",
              "        text-align: right;\n",
              "    }\n",
              "</style>\n",
              "<table border=\"1\" class=\"dataframe\">\n",
              "  <thead>\n",
              "    <tr style=\"text-align: right;\">\n",
              "      <th></th>\n",
              "      <th>Age</th>\n",
              "      <th>EstimatedSalary</th>\n",
              "      <th>Purchased</th>\n",
              "    </tr>\n",
              "  </thead>\n",
              "  <tbody>\n",
              "    <tr>\n",
              "      <th>0</th>\n",
              "      <td>19</td>\n",
              "      <td>19000</td>\n",
              "      <td>0</td>\n",
              "    </tr>\n",
              "    <tr>\n",
              "      <th>1</th>\n",
              "      <td>35</td>\n",
              "      <td>20000</td>\n",
              "      <td>0</td>\n",
              "    </tr>\n",
              "    <tr>\n",
              "      <th>2</th>\n",
              "      <td>26</td>\n",
              "      <td>43000</td>\n",
              "      <td>0</td>\n",
              "    </tr>\n",
              "    <tr>\n",
              "      <th>3</th>\n",
              "      <td>27</td>\n",
              "      <td>57000</td>\n",
              "      <td>0</td>\n",
              "    </tr>\n",
              "    <tr>\n",
              "      <th>4</th>\n",
              "      <td>19</td>\n",
              "      <td>76000</td>\n",
              "      <td>0</td>\n",
              "    </tr>\n",
              "    <tr>\n",
              "      <th>...</th>\n",
              "      <td>...</td>\n",
              "      <td>...</td>\n",
              "      <td>...</td>\n",
              "    </tr>\n",
              "    <tr>\n",
              "      <th>395</th>\n",
              "      <td>46</td>\n",
              "      <td>41000</td>\n",
              "      <td>1</td>\n",
              "    </tr>\n",
              "    <tr>\n",
              "      <th>396</th>\n",
              "      <td>51</td>\n",
              "      <td>23000</td>\n",
              "      <td>1</td>\n",
              "    </tr>\n",
              "    <tr>\n",
              "      <th>397</th>\n",
              "      <td>50</td>\n",
              "      <td>20000</td>\n",
              "      <td>1</td>\n",
              "    </tr>\n",
              "    <tr>\n",
              "      <th>398</th>\n",
              "      <td>36</td>\n",
              "      <td>33000</td>\n",
              "      <td>0</td>\n",
              "    </tr>\n",
              "    <tr>\n",
              "      <th>399</th>\n",
              "      <td>49</td>\n",
              "      <td>36000</td>\n",
              "      <td>1</td>\n",
              "    </tr>\n",
              "  </tbody>\n",
              "</table>\n",
              "<p>400 rows × 3 columns</p>\n",
              "</div>"
            ],
            "text/plain": [
              "     Age  EstimatedSalary  Purchased\n",
              "0     19            19000          0\n",
              "1     35            20000          0\n",
              "2     26            43000          0\n",
              "3     27            57000          0\n",
              "4     19            76000          0\n",
              "..   ...              ...        ...\n",
              "395   46            41000          1\n",
              "396   51            23000          1\n",
              "397   50            20000          1\n",
              "398   36            33000          0\n",
              "399   49            36000          1\n",
              "\n",
              "[400 rows x 3 columns]"
            ]
          },
          "metadata": {},
          "execution_count": 3
        }
      ]
    },
    {
      "cell_type": "code",
      "metadata": {
        "execution": {
          "iopub.execute_input": "2021-06-27T05:44:07.732835Z",
          "iopub.status.busy": "2021-06-27T05:44:07.731859Z",
          "iopub.status.idle": "2021-06-27T05:44:07.749626Z",
          "shell.execute_reply": "2021-06-27T05:44:07.749080Z",
          "shell.execute_reply.started": "2021-06-27T05:32:45.789935Z"
        },
        "id": "loose-parks",
        "papermill": {
          "duration": 0.080956,
          "end_time": "2021-06-27T05:44:07.749790",
          "exception": false,
          "start_time": "2021-06-27T05:44:07.668834",
          "status": "completed"
        },
        "tags": [],
        "colab": {
          "base_uri": "https://localhost:8080/"
        },
        "outputId": "86e92bdb-2d26-4005-f412-25908dd3eb85"
      },
      "source": [
        "df.info()"
      ],
      "id": "loose-parks",
      "execution_count": 4,
      "outputs": [
        {
          "output_type": "stream",
          "name": "stdout",
          "text": [
            "<class 'pandas.core.frame.DataFrame'>\n",
            "RangeIndex: 400 entries, 0 to 399\n",
            "Data columns (total 3 columns):\n",
            " #   Column           Non-Null Count  Dtype\n",
            "---  ------           --------------  -----\n",
            " 0   Age              400 non-null    int64\n",
            " 1   EstimatedSalary  400 non-null    int64\n",
            " 2   Purchased        400 non-null    int64\n",
            "dtypes: int64(3)\n",
            "memory usage: 9.5 KB\n"
          ]
        }
      ]
    },
    {
      "cell_type": "code",
      "metadata": {
        "execution": {
          "iopub.execute_input": "2021-06-27T05:44:07.855789Z",
          "iopub.status.busy": "2021-06-27T05:44:07.855133Z",
          "iopub.status.idle": "2021-06-27T05:44:07.873324Z",
          "shell.execute_reply": "2021-06-27T05:44:07.872768Z",
          "shell.execute_reply.started": "2021-06-27T05:32:45.820236Z"
        },
        "id": "complete-field",
        "papermill": {
          "duration": 0.0739,
          "end_time": "2021-06-27T05:44:07.873460",
          "exception": false,
          "start_time": "2021-06-27T05:44:07.799560",
          "status": "completed"
        },
        "tags": [],
        "colab": {
          "base_uri": "https://localhost:8080/",
          "height": 297
        },
        "outputId": "3e9ea3b0-6a7a-42bd-d413-10c954bcad3c"
      },
      "source": [
        "df.describe()"
      ],
      "id": "complete-field",
      "execution_count": 5,
      "outputs": [
        {
          "output_type": "execute_result",
          "data": {
            "text/html": [
              "<div>\n",
              "<style scoped>\n",
              "    .dataframe tbody tr th:only-of-type {\n",
              "        vertical-align: middle;\n",
              "    }\n",
              "\n",
              "    .dataframe tbody tr th {\n",
              "        vertical-align: top;\n",
              "    }\n",
              "\n",
              "    .dataframe thead th {\n",
              "        text-align: right;\n",
              "    }\n",
              "</style>\n",
              "<table border=\"1\" class=\"dataframe\">\n",
              "  <thead>\n",
              "    <tr style=\"text-align: right;\">\n",
              "      <th></th>\n",
              "      <th>Age</th>\n",
              "      <th>EstimatedSalary</th>\n",
              "      <th>Purchased</th>\n",
              "    </tr>\n",
              "  </thead>\n",
              "  <tbody>\n",
              "    <tr>\n",
              "      <th>count</th>\n",
              "      <td>400.000000</td>\n",
              "      <td>400.000000</td>\n",
              "      <td>400.000000</td>\n",
              "    </tr>\n",
              "    <tr>\n",
              "      <th>mean</th>\n",
              "      <td>37.655000</td>\n",
              "      <td>69742.500000</td>\n",
              "      <td>0.357500</td>\n",
              "    </tr>\n",
              "    <tr>\n",
              "      <th>std</th>\n",
              "      <td>10.482877</td>\n",
              "      <td>34096.960282</td>\n",
              "      <td>0.479864</td>\n",
              "    </tr>\n",
              "    <tr>\n",
              "      <th>min</th>\n",
              "      <td>18.000000</td>\n",
              "      <td>15000.000000</td>\n",
              "      <td>0.000000</td>\n",
              "    </tr>\n",
              "    <tr>\n",
              "      <th>25%</th>\n",
              "      <td>29.750000</td>\n",
              "      <td>43000.000000</td>\n",
              "      <td>0.000000</td>\n",
              "    </tr>\n",
              "    <tr>\n",
              "      <th>50%</th>\n",
              "      <td>37.000000</td>\n",
              "      <td>70000.000000</td>\n",
              "      <td>0.000000</td>\n",
              "    </tr>\n",
              "    <tr>\n",
              "      <th>75%</th>\n",
              "      <td>46.000000</td>\n",
              "      <td>88000.000000</td>\n",
              "      <td>1.000000</td>\n",
              "    </tr>\n",
              "    <tr>\n",
              "      <th>max</th>\n",
              "      <td>60.000000</td>\n",
              "      <td>150000.000000</td>\n",
              "      <td>1.000000</td>\n",
              "    </tr>\n",
              "  </tbody>\n",
              "</table>\n",
              "</div>"
            ],
            "text/plain": [
              "              Age  EstimatedSalary   Purchased\n",
              "count  400.000000       400.000000  400.000000\n",
              "mean    37.655000     69742.500000    0.357500\n",
              "std     10.482877     34096.960282    0.479864\n",
              "min     18.000000     15000.000000    0.000000\n",
              "25%     29.750000     43000.000000    0.000000\n",
              "50%     37.000000     70000.000000    0.000000\n",
              "75%     46.000000     88000.000000    1.000000\n",
              "max     60.000000    150000.000000    1.000000"
            ]
          },
          "metadata": {},
          "execution_count": 5
        }
      ]
    },
    {
      "cell_type": "code",
      "metadata": {
        "execution": {
          "iopub.execute_input": "2021-06-27T05:44:07.973928Z",
          "iopub.status.busy": "2021-06-27T05:44:07.973291Z",
          "iopub.status.idle": "2021-06-27T05:44:08.154259Z",
          "shell.execute_reply": "2021-06-27T05:44:08.153596Z",
          "shell.execute_reply.started": "2021-06-27T05:32:45.846186Z"
        },
        "id": "unexpected-running",
        "papermill": {
          "duration": 0.232616,
          "end_time": "2021-06-27T05:44:08.154402",
          "exception": false,
          "start_time": "2021-06-27T05:44:07.921786",
          "status": "completed"
        },
        "tags": [],
        "colab": {
          "base_uri": "https://localhost:8080/",
          "height": 621
        },
        "outputId": "bb367a0b-d767-4b1d-c9f6-b33adbff8196"
      },
      "source": [
        "plt.figure(figsize=(20,10))\n",
        "plt.title('Count of purchased')\n",
        "sns.countplot(data=df,x='Purchased');"
      ],
      "id": "unexpected-running",
      "execution_count": 6,
      "outputs": [
        {
          "output_type": "display_data",
          "data": {
            "image/png": "[encoded data removed]",
            "text/plain": [
              "<Figure size 1440x720 with 1 Axes>"
            ]
          },
          "metadata": {
            "needs_background": "light"
          }
        }
      ]
    },
    {
      "cell_type": "markdown",
      "metadata": {
        "id": "american-indian",
        "papermill": {
          "duration": 0.049245,
          "end_time": "2021-06-27T05:44:08.252360",
          "exception": false,
          "start_time": "2021-06-27T05:44:08.203115",
          "status": "completed"
        },
        "tags": []
      },
      "source": [
        "It looks like a little in-balance in the dataset"
      ],
      "id": "american-indian"
    },
    {
      "cell_type": "code",
      "metadata": {
        "execution": {
          "iopub.execute_input": "2021-06-27T05:44:08.382602Z",
          "iopub.status.busy": "2021-06-27T05:44:08.377303Z",
          "iopub.status.idle": "2021-06-27T05:44:08.656992Z",
          "shell.execute_reply": "2021-06-27T05:44:08.656484Z",
          "shell.execute_reply.started": "2021-06-27T05:32:45.995258Z"
        },
        "id": "adjustable-sponsorship",
        "papermill": {
          "duration": 0.354379,
          "end_time": "2021-06-27T05:44:08.657148",
          "exception": false,
          "start_time": "2021-06-27T05:44:08.302769",
          "status": "completed"
        },
        "tags": [],
        "colab": {
          "base_uri": "https://localhost:8080/",
          "height": 621
        },
        "outputId": "6bff0f5c-74cb-4818-b7f5-b36254a1dbc1"
      },
      "source": [
        "plt.figure(figsize=(20,10))\n",
        "plt.title('Histogram of Age')\n",
        "sns.histplot(data=df,x='Age',bins=40, kde=True);"
      ],
      "id": "adjustable-sponsorship",
      "execution_count": 7,
      "outputs": [
        {
          "output_type": "display_data",
          "data": {
            "image/png": "[encoded data removed]",
            "text/plain": [
              "<Figure size 1440x720 with 1 Axes>"
            ]
          },
          "metadata": {
            "needs_background": "light"
          }
        }
      ]
    },
    {
      "cell_type": "code",
      "metadata": {
        "execution": {
          "iopub.execute_input": "2021-06-27T05:44:08.783310Z",
          "iopub.status.busy": "2021-06-27T05:44:08.763030Z",
          "iopub.status.idle": "2021-06-27T05:44:09.009003Z",
          "shell.execute_reply": "2021-06-27T05:44:09.008330Z",
          "shell.execute_reply.started": "2021-06-27T05:32:46.273423Z"
        },
        "id": "enormous-matter",
        "papermill": {
          "duration": 0.301686,
          "end_time": "2021-06-27T05:44:09.009145",
          "exception": false,
          "start_time": "2021-06-27T05:44:08.707459",
          "status": "completed"
        },
        "tags": [],
        "colab": {
          "base_uri": "https://localhost:8080/",
          "height": 621
        },
        "outputId": "27c70153-be4b-453e-9e20-dffd61b8ac5c"
      },
      "source": [
        "plt.figure(figsize=(20,10))\n",
        "plt.title('Histogram of Estimated Salary')\n",
        "sns.histplot(data=df,x='EstimatedSalary',bins=20, kde=True);"
      ],
      "id": "enormous-matter",
      "execution_count": 8,
      "outputs": [
        {
          "output_type": "display_data",
          "data": {
            "image/png": "[encoded data removed]",
            "text/plain": [
              "<Figure size 1440x720 with 1 Axes>"
            ]
          },
          "metadata": {
            "needs_background": "light"
          }
        }
      ]
    },
    {
      "cell_type": "code",
      "metadata": {
        "execution": {
          "iopub.execute_input": "2021-06-27T05:44:09.144470Z",
          "iopub.status.busy": "2021-06-27T05:44:09.143272Z",
          "iopub.status.idle": "2021-06-27T05:44:09.452036Z",
          "shell.execute_reply": "2021-06-27T05:44:09.452590Z",
          "shell.execute_reply.started": "2021-06-27T05:32:46.515626Z"
        },
        "id": "posted-jonathan",
        "papermill": {
          "duration": 0.392066,
          "end_time": "2021-06-27T05:44:09.452768",
          "exception": false,
          "start_time": "2021-06-27T05:44:09.060702",
          "status": "completed"
        },
        "tags": [],
        "colab": {
          "base_uri": "https://localhost:8080/",
          "height": 621
        },
        "outputId": "d0af8814-0df6-4e61-e38b-d38e1236c55c"
      },
      "source": [
        "plt.figure(figsize=(20,10))\n",
        "plt.title('Plot of Estimated Salary vs Age vs Purchased')\n",
        "sns.scatterplot(data=df,x='Age',y= 'EstimatedSalary', hue='Purchased', s=100);"
      ],
      "id": "posted-jonathan",
      "execution_count": 9,
      "outputs": [
        {
          "output_type": "display_data",
          "data": {
            "image/png": "[encoded data removed]",
            "text/plain": [
              "<Figure size 1440x720 with 1 Axes>"
            ]
          },
          "metadata": {
            "needs_background": "light"
          }
        }
      ]
    },
    {
      "cell_type": "code",
      "metadata": {
        "execution": {
          "iopub.execute_input": "2021-06-27T05:44:09.584441Z",
          "iopub.status.busy": "2021-06-27T05:44:09.583765Z",
          "iopub.status.idle": "2021-06-27T05:44:09.917449Z",
          "shell.execute_reply": "2021-06-27T05:44:09.917931Z",
          "shell.execute_reply.started": "2021-06-27T05:32:46.801026Z"
        },
        "id": "exact-growing",
        "papermill": {
          "duration": 0.410482,
          "end_time": "2021-06-27T05:44:09.918169",
          "exception": false,
          "start_time": "2021-06-27T05:44:09.507687",
          "status": "completed"
        },
        "tags": [],
        "colab": {
          "base_uri": "https://localhost:8080/",
          "height": 1000
        },
        "outputId": "ebc724f6-c36c-4d56-81b4-c329c1b7b83f"
      },
      "source": [
        "plt.figure(figsize=(20,20))\n",
        "plt.title('Heat map of Correlation')\n",
        "sns.heatmap(data=df.corr(), annot= True)"
      ],
      "id": "exact-growing",
      "execution_count": 10,
      "outputs": [
        {
          "output_type": "execute_result",
          "data": {
            "text/plain": [
              "<matplotlib.axes._subplots.AxesSubplot at 0x7fbc5333f210>"
            ]
          },
          "metadata": {},
          "execution_count": 10
        },
        {
          "output_type": "display_data",
          "data": {
            "image/png": "[encoded data removed]",
            "text/plain": [
              "<Figure size 1440x1440 with 2 Axes>"
            ]
          },
          "metadata": {
            "needs_background": "light"
          }
        }
      ]
    },
    {
      "cell_type": "markdown",
      "metadata": {
        "id": "amended-picnic",
        "papermill": {
          "duration": 0.055986,
          "end_time": "2021-06-27T05:44:10.034315",
          "exception": false,
          "start_time": "2021-06-27T05:44:09.978329",
          "status": "completed"
        },
        "tags": []
      },
      "source": [
        "# 5. Modelling"
      ],
      "id": "amended-picnic"
    },
    {
      "cell_type": "code",
      "metadata": {
        "execution": {
          "iopub.execute_input": "2021-06-27T05:44:10.170177Z",
          "iopub.status.busy": "2021-06-27T05:44:10.169139Z",
          "iopub.status.idle": "2021-06-27T05:44:10.178961Z",
          "shell.execute_reply": "2021-06-27T05:44:10.179609Z",
          "shell.execute_reply.started": "2021-06-27T05:32:47.127286Z"
        },
        "id": "brazilian-investigation",
        "papermill": {
          "duration": 0.08722,
          "end_time": "2021-06-27T05:44:10.179790",
          "exception": false,
          "start_time": "2021-06-27T05:44:10.092570",
          "status": "completed"
        },
        "tags": [],
        "colab": {
          "base_uri": "https://localhost:8080/",
          "height": 204
        },
        "outputId": "b4d5bca6-b1bb-410c-f557-ffabd184b13c"
      },
      "source": [
        "df.head()"
      ],
      "id": "brazilian-investigation",
      "execution_count": 11,
      "outputs": [
        {
          "output_type": "execute_result",
          "data": {
            "text/html": [
              "<div>\n",
              "<style scoped>\n",
              "    .dataframe tbody tr th:only-of-type {\n",
              "        vertical-align: middle;\n",
              "    }\n",
              "\n",
              "    .dataframe tbody tr th {\n",
              "        vertical-align: top;\n",
              "    }\n",
              "\n",
              "    .dataframe thead th {\n",
              "        text-align: right;\n",
              "    }\n",
              "</style>\n",
              "<table border=\"1\" class=\"dataframe\">\n",
              "  <thead>\n",
              "    <tr style=\"text-align: right;\">\n",
              "      <th></th>\n",
              "      <th>Age</th>\n",
              "      <th>EstimatedSalary</th>\n",
              "      <th>Purchased</th>\n",
              "    </tr>\n",
              "  </thead>\n",
              "  <tbody>\n",
              "    <tr>\n",
              "      <th>0</th>\n",
              "      <td>19</td>\n",
              "      <td>19000</td>\n",
              "      <td>0</td>\n",
              "    </tr>\n",
              "    <tr>\n",
              "      <th>1</th>\n",
              "      <td>35</td>\n",
              "      <td>20000</td>\n",
              "      <td>0</td>\n",
              "    </tr>\n",
              "    <tr>\n",
              "      <th>2</th>\n",
              "      <td>26</td>\n",
              "      <td>43000</td>\n",
              "      <td>0</td>\n",
              "    </tr>\n",
              "    <tr>\n",
              "      <th>3</th>\n",
              "      <td>27</td>\n",
              "      <td>57000</td>\n",
              "      <td>0</td>\n",
              "    </tr>\n",
              "    <tr>\n",
              "      <th>4</th>\n",
              "      <td>19</td>\n",
              "      <td>76000</td>\n",
              "      <td>0</td>\n",
              "    </tr>\n",
              "  </tbody>\n",
              "</table>\n",
              "</div>"
            ],
            "text/plain": [
              "   Age  EstimatedSalary  Purchased\n",
              "0   19            19000          0\n",
              "1   35            20000          0\n",
              "2   26            43000          0\n",
              "3   27            57000          0\n",
              "4   19            76000          0"
            ]
          },
          "metadata": {},
          "execution_count": 11
        }
      ]
    },
    {
      "cell_type": "code",
      "metadata": {
        "execution": {
          "iopub.execute_input": "2021-06-27T05:44:10.311796Z",
          "iopub.status.busy": "2021-06-27T05:44:10.310830Z",
          "iopub.status.idle": "2021-06-27T05:44:10.322189Z",
          "shell.execute_reply": "2021-06-27T05:44:10.322908Z",
          "shell.execute_reply.started": "2021-06-27T05:32:47.141490Z"
        },
        "id": "compressed-isolation",
        "papermill": {
          "duration": 0.076686,
          "end_time": "2021-06-27T05:44:10.323204",
          "exception": false,
          "start_time": "2021-06-27T05:44:10.246518",
          "status": "completed"
        },
        "tags": [],
        "colab": {
          "base_uri": "https://localhost:8080/"
        },
        "outputId": "fa42896a-97e7-4a68-b3a5-5414e803d344"
      },
      "source": [
        "df.isnull().sum()"
      ],
      "id": "compressed-isolation",
      "execution_count": 12,
      "outputs": [
        {
          "output_type": "execute_result",
          "data": {
            "text/plain": [
              "Age                0\n",
              "EstimatedSalary    0\n",
              "Purchased          0\n",
              "dtype: int64"
            ]
          },
          "metadata": {},
          "execution_count": 12
        }
      ]
    },
    {
      "cell_type": "code",
      "metadata": {
        "execution": {
          "iopub.execute_input": "2021-06-27T05:44:10.462781Z",
          "iopub.status.busy": "2021-06-27T05:44:10.461821Z",
          "iopub.status.idle": "2021-06-27T05:44:10.465189Z",
          "shell.execute_reply": "2021-06-27T05:44:10.464646Z",
          "shell.execute_reply.started": "2021-06-27T05:32:47.157796Z"
        },
        "id": "civic-antibody",
        "papermill": {
          "duration": 0.072991,
          "end_time": "2021-06-27T05:44:10.465343",
          "exception": false,
          "start_time": "2021-06-27T05:44:10.392352",
          "status": "completed"
        },
        "tags": []
      },
      "source": [
        "X = df.drop('Purchased', axis=1)\n",
        "y = df['Purchased']"
      ],
      "id": "civic-antibody",
      "execution_count": 13,
      "outputs": []
    },
    {
      "cell_type": "code",
      "metadata": {
        "execution": {
          "iopub.execute_input": "2021-06-27T05:44:10.588970Z",
          "iopub.status.busy": "2021-06-27T05:44:10.588319Z",
          "iopub.status.idle": "2021-06-27T05:44:10.833221Z",
          "shell.execute_reply": "2021-06-27T05:44:10.832587Z",
          "shell.execute_reply.started": "2021-06-27T05:32:47.171964Z"
        },
        "id": "clean-chapel",
        "papermill": {
          "duration": 0.307418,
          "end_time": "2021-06-27T05:44:10.833377",
          "exception": false,
          "start_time": "2021-06-27T05:44:10.525959",
          "status": "completed"
        },
        "tags": []
      },
      "source": [
        "from sklearn.model_selection import train_test_split\n",
        "from sklearn.preprocessing import StandardScaler"
      ],
      "id": "clean-chapel",
      "execution_count": 14,
      "outputs": []
    },
    {
      "cell_type": "code",
      "metadata": {
        "execution": {
          "iopub.execute_input": "2021-06-27T05:44:10.961392Z",
          "iopub.status.busy": "2021-06-27T05:44:10.960269Z",
          "iopub.status.idle": "2021-06-27T05:44:10.963608Z",
          "shell.execute_reply": "2021-06-27T05:44:10.964095Z",
          "shell.execute_reply.started": "2021-06-27T05:32:47.187373Z"
        },
        "id": "liberal-tractor",
        "papermill": {
          "duration": 0.069157,
          "end_time": "2021-06-27T05:44:10.964277",
          "exception": false,
          "start_time": "2021-06-27T05:44:10.895120",
          "status": "completed"
        },
        "tags": []
      },
      "source": [
        "X_train, X_test, y_train, y_test = train_test_split(X, y, test_size=0.2, random_state=42)"
      ],
      "id": "liberal-tractor",
      "execution_count": 15,
      "outputs": []
    },
    {
      "cell_type": "code",
      "metadata": {
        "execution": {
          "iopub.execute_input": "2021-06-27T05:44:11.091145Z",
          "iopub.status.busy": "2021-06-27T05:44:11.086779Z",
          "iopub.status.idle": "2021-06-27T05:44:11.094710Z",
          "shell.execute_reply": "2021-06-27T05:44:11.094019Z",
          "shell.execute_reply.started": "2021-06-27T05:32:47.203067Z"
        },
        "id": "pregnant-zealand",
        "papermill": {
          "duration": 0.073403,
          "end_time": "2021-06-27T05:44:11.094858",
          "exception": false,
          "start_time": "2021-06-27T05:44:11.021455",
          "status": "completed"
        },
        "tags": []
      },
      "source": [
        "scaler = StandardScaler()\n",
        "X_train = scaler.fit_transform(X_train)\n",
        "X_test = scaler.transform(X_test)"
      ],
      "id": "pregnant-zealand",
      "execution_count": 16,
      "outputs": []
    },
    {
      "cell_type": "markdown",
      "metadata": {
        "id": "aware-manitoba",
        "papermill": {
          "duration": 0.057477,
          "end_time": "2021-06-27T05:44:11.209783",
          "exception": false,
          "start_time": "2021-06-27T05:44:11.152306",
          "status": "completed"
        },
        "tags": []
      },
      "source": [
        "## Model imports"
      ],
      "id": "aware-manitoba"
    },
    {
      "cell_type": "code",
      "metadata": {
        "execution": {
          "iopub.execute_input": "2021-06-27T05:44:11.328934Z",
          "iopub.status.busy": "2021-06-27T05:44:11.328274Z",
          "iopub.status.idle": "2021-06-27T05:44:11.958728Z",
          "shell.execute_reply": "2021-06-27T05:44:11.958153Z",
          "shell.execute_reply.started": "2021-06-27T05:38:57.491972Z"
        },
        "id": "threatened-indonesian",
        "papermill": {
          "duration": 0.691727,
          "end_time": "2021-06-27T05:44:11.958875",
          "exception": false,
          "start_time": "2021-06-27T05:44:11.267148",
          "status": "completed"
        },
        "tags": []
      },
      "source": [
        "from sklearn.linear_model import LogisticRegression\n",
        "from sklearn.neighbors import KNeighborsClassifier\n",
        "from sklearn.svm import SVC\n",
        "from sklearn.tree import DecisionTreeClassifier\n",
        "from sklearn.ensemble import RandomForestClassifier, AdaBoostClassifier, GradientBoostingClassifier\n",
        "from xgboost import XGBClassifier, XGBRFClassifier"
      ],
      "id": "threatened-indonesian",
      "execution_count": 17,
      "outputs": []
    },
    {
      "cell_type": "markdown",
      "metadata": {
        "id": "juvenile-ballot",
        "papermill": {
          "duration": 0.057582,
          "end_time": "2021-06-27T05:44:12.073397",
          "exception": false,
          "start_time": "2021-06-27T05:44:12.015815",
          "status": "completed"
        },
        "tags": []
      },
      "source": [
        "## Baseline Modelling"
      ],
      "id": "juvenile-ballot"
    },
    {
      "cell_type": "code",
      "metadata": {
        "execution": {
          "iopub.execute_input": "2021-06-27T05:44:12.196669Z",
          "iopub.status.busy": "2021-06-27T05:44:12.195930Z",
          "iopub.status.idle": "2021-06-27T05:44:12.199428Z",
          "shell.execute_reply": "2021-06-27T05:44:12.198745Z",
          "shell.execute_reply.started": "2021-06-27T05:38:58.789615Z"
        },
        "id": "living-madrid",
        "papermill": {
          "duration": 0.068349,
          "end_time": "2021-06-27T05:44:12.199590",
          "exception": false,
          "start_time": "2021-06-27T05:44:12.131241",
          "status": "completed"
        },
        "tags": []
      },
      "source": [
        "def fit_and_score(models, X_train, X_test, y_train, y_test):\n",
        "    np.random.seed(42)\n",
        "    \n",
        "    model_scores = {}\n",
        "    \n",
        "    for name, model in models.items():\n",
        "        model.fit(X_train,y_train)\n",
        "        model_scores[name] = model.score(X_test,y_test)\n",
        "\n",
        "    model_scores = pd.DataFrame(model_scores, index=['Score']).transpose()\n",
        "    model_scores = model_scores.sort_values('Score')\n",
        "        \n",
        "    return model_scores"
      ],
      "id": "living-madrid",
      "execution_count": 18,
      "outputs": []
    },
    {
      "cell_type": "code",
      "metadata": {
        "execution": {
          "iopub.execute_input": "2021-06-27T05:44:12.322206Z",
          "iopub.status.busy": "2021-06-27T05:44:12.321488Z",
          "iopub.status.idle": "2021-06-27T05:44:12.324644Z",
          "shell.execute_reply": "2021-06-27T05:44:12.323962Z",
          "shell.execute_reply.started": "2021-06-27T05:39:00.005166Z"
        },
        "id": "pretty-glenn",
        "papermill": {
          "duration": 0.066322,
          "end_time": "2021-06-27T05:44:12.324786",
          "exception": false,
          "start_time": "2021-06-27T05:44:12.258464",
          "status": "completed"
        },
        "tags": []
      },
      "source": [
        "models = {'LogisticRegression': LogisticRegression(max_iter=10000),\n",
        "          'KNeighborsClassifier': KNeighborsClassifier(),\n",
        "          'SVC': SVC(),\n",
        "          'DecisionTreeClassifier': DecisionTreeClassifier(),\n",
        "          'RandomForestClassifier': RandomForestClassifier(),\n",
        "          'AdaBoostClassifier': AdaBoostClassifier(),\n",
        "          'GradientBoostingClassifier': GradientBoostingClassifier(),\n",
        "          'XGBClassifier': XGBClassifier(eval_metric='mlogloss'),\n",
        "          'XGBRFClassifier': XGBRFClassifier(eval_metric='mlogloss')}"
      ],
      "id": "pretty-glenn",
      "execution_count": 19,
      "outputs": []
    },
    {
      "cell_type": "code",
      "metadata": {
        "execution": {
          "iopub.execute_input": "2021-06-27T05:44:12.447324Z",
          "iopub.status.busy": "2021-06-27T05:44:12.445626Z",
          "iopub.status.idle": "2021-06-27T05:44:12.956396Z",
          "shell.execute_reply": "2021-06-27T05:44:12.957465Z",
          "shell.execute_reply.started": "2021-06-27T05:39:00.742266Z"
        },
        "id": "experimental-approval",
        "papermill": {
          "duration": 0.5751,
          "end_time": "2021-06-27T05:44:12.957831",
          "exception": false,
          "start_time": "2021-06-27T05:44:12.382731",
          "status": "completed"
        },
        "tags": []
      },
      "source": [
        "baseline_model_scores = fit_and_score(models, X_train, X_test, y_train, y_test)"
      ],
      "id": "experimental-approval",
      "execution_count": 20,
      "outputs": []
    },
    {
      "cell_type": "code",
      "metadata": {
        "execution": {
          "iopub.execute_input": "2021-06-27T05:44:13.082576Z",
          "iopub.status.busy": "2021-06-27T05:44:13.081906Z",
          "iopub.status.idle": "2021-06-27T05:44:13.088231Z",
          "shell.execute_reply": "2021-06-27T05:44:13.087677Z",
          "shell.execute_reply.started": "2021-06-27T05:39:02.308111Z"
        },
        "id": "sophisticated-oliver",
        "papermill": {
          "duration": 0.071323,
          "end_time": "2021-06-27T05:44:13.088394",
          "exception": false,
          "start_time": "2021-06-27T05:44:13.017071",
          "status": "completed"
        },
        "tags": [],
        "colab": {
          "base_uri": "https://localhost:8080/",
          "height": 328
        },
        "outputId": "7f0423aa-1f1c-404b-e67b-2c34a5bfc994"
      },
      "source": [
        "baseline_model_scores.sort_values('Score')"
      ],
      "id": "sophisticated-oliver",
      "execution_count": 21,
      "outputs": [
        {
          "output_type": "execute_result",
          "data": {
            "text/html": [
              "<div>\n",
              "<style scoped>\n",
              "    .dataframe tbody tr th:only-of-type {\n",
              "        vertical-align: middle;\n",
              "    }\n",
              "\n",
              "    .dataframe tbody tr th {\n",
              "        vertical-align: top;\n",
              "    }\n",
              "\n",
              "    .dataframe thead th {\n",
              "        text-align: right;\n",
              "    }\n",
              "</style>\n",
              "<table border=\"1\" class=\"dataframe\">\n",
              "  <thead>\n",
              "    <tr style=\"text-align: right;\">\n",
              "      <th></th>\n",
              "      <th>Score</th>\n",
              "    </tr>\n",
              "  </thead>\n",
              "  <tbody>\n",
              "    <tr>\n",
              "      <th>DecisionTreeClassifier</th>\n",
              "      <td>0.8375</td>\n",
              "    </tr>\n",
              "    <tr>\n",
              "      <th>LogisticRegression</th>\n",
              "      <td>0.8625</td>\n",
              "    </tr>\n",
              "    <tr>\n",
              "      <th>GradientBoostingClassifier</th>\n",
              "      <td>0.8625</td>\n",
              "    </tr>\n",
              "    <tr>\n",
              "      <th>RandomForestClassifier</th>\n",
              "      <td>0.8875</td>\n",
              "    </tr>\n",
              "    <tr>\n",
              "      <th>AdaBoostClassifier</th>\n",
              "      <td>0.8875</td>\n",
              "    </tr>\n",
              "    <tr>\n",
              "      <th>KNeighborsClassifier</th>\n",
              "      <td>0.9125</td>\n",
              "    </tr>\n",
              "    <tr>\n",
              "      <th>XGBClassifier</th>\n",
              "      <td>0.9125</td>\n",
              "    </tr>\n",
              "    <tr>\n",
              "      <th>XGBRFClassifier</th>\n",
              "      <td>0.9125</td>\n",
              "    </tr>\n",
              "    <tr>\n",
              "      <th>SVC</th>\n",
              "      <td>0.9250</td>\n",
              "    </tr>\n",
              "  </tbody>\n",
              "</table>\n",
              "</div>"
            ],
            "text/plain": [
              "                             Score\n",
              "DecisionTreeClassifier      0.8375\n",
              "LogisticRegression          0.8625\n",
              "GradientBoostingClassifier  0.8625\n",
              "RandomForestClassifier      0.8875\n",
              "AdaBoostClassifier          0.8875\n",
              "KNeighborsClassifier        0.9125\n",
              "XGBClassifier               0.9125\n",
              "XGBRFClassifier             0.9125\n",
              "SVC                         0.9250"
            ]
          },
          "metadata": {},
          "execution_count": 21
        }
      ]
    },
    {
      "cell_type": "code",
      "metadata": {
        "execution": {
          "iopub.execute_input": "2021-06-27T05:44:13.241361Z",
          "iopub.status.busy": "2021-06-27T05:44:13.238512Z",
          "iopub.status.idle": "2021-06-27T05:44:13.433834Z",
          "shell.execute_reply": "2021-06-27T05:44:13.434370Z",
          "shell.execute_reply.started": "2021-06-27T05:39:14.670681Z"
        },
        "id": "choice-polish",
        "papermill": {
          "duration": 0.286025,
          "end_time": "2021-06-27T05:44:13.434547",
          "exception": false,
          "start_time": "2021-06-27T05:44:13.148522",
          "status": "completed"
        },
        "tags": [],
        "colab": {
          "base_uri": "https://localhost:8080/",
          "height": 731
        },
        "outputId": "abc66eb6-bd00-48ec-bc0d-7567aa5f3524"
      },
      "source": [
        "plt.figure(figsize=(20,10))\n",
        "sns.barplot(data=baseline_model_scores.sort_values('Score').T)\n",
        "plt.title('Baseline Model Precision Score')\n",
        "plt.xticks(rotation=90);"
      ],
      "id": "choice-polish",
      "execution_count": 22,
      "outputs": [
        {
          "output_type": "display_data",
          "data": {
            "image/png": "[encoded data removed]",
            "text/plain": [
              "<Figure size 1440x720 with 1 Axes>"
            ]
          },
          "metadata": {
            "needs_background": "light"
          }
        }
      ]
    },
    {
      "cell_type": "markdown",
      "metadata": {
        "id": "decimal-while",
        "papermill": {
          "duration": 0.05911,
          "end_time": "2021-06-27T05:44:13.555229",
          "exception": false,
          "start_time": "2021-06-27T05:44:13.496119",
          "status": "completed"
        },
        "tags": []
      },
      "source": [
        "From the baseline modeling, we will choose the follow model to have an in-depth look:\n",
        "\n",
        "1. KNeighborsClassifier \t0.9125\n",
        "2. XGBClassifier \t0.9125\n",
        "3. XGBRFClassifier \t0.9125\n",
        "4. SVC \t0.9250"
      ],
      "id": "decimal-while"
    },
    {
      "cell_type": "markdown",
      "metadata": {
        "id": "developed-speaker",
        "papermill": {
          "duration": 0.058233,
          "end_time": "2021-06-27T05:44:13.671871",
          "exception": false,
          "start_time": "2021-06-27T05:44:13.613638",
          "status": "completed"
        },
        "tags": []
      },
      "source": [
        "## HyperTuning using Random Search CV"
      ],
      "id": "developed-speaker"
    },
    {
      "cell_type": "code",
      "metadata": {
        "execution": {
          "iopub.execute_input": "2021-06-27T05:44:13.797424Z",
          "iopub.status.busy": "2021-06-27T05:44:13.796428Z",
          "iopub.status.idle": "2021-06-27T05:44:13.799802Z",
          "shell.execute_reply": "2021-06-27T05:44:13.799252Z",
          "shell.execute_reply.started": "2021-06-27T05:32:47.992365Z"
        },
        "id": "accepting-coalition",
        "papermill": {
          "duration": 0.066339,
          "end_time": "2021-06-27T05:44:13.799939",
          "exception": false,
          "start_time": "2021-06-27T05:44:13.733600",
          "status": "completed"
        },
        "tags": []
      },
      "source": [
        "from sklearn.model_selection import RandomizedSearchCV\n",
        "from warnings import filterwarnings"
      ],
      "id": "accepting-coalition",
      "execution_count": 23,
      "outputs": []
    },
    {
      "cell_type": "code",
      "metadata": {
        "execution": {
          "iopub.execute_input": "2021-06-27T05:44:13.922051Z",
          "iopub.status.busy": "2021-06-27T05:44:13.921120Z",
          "iopub.status.idle": "2021-06-27T05:44:13.924451Z",
          "shell.execute_reply": "2021-06-27T05:44:13.923879Z",
          "shell.execute_reply.started": "2021-06-27T05:32:47.997543Z"
        },
        "id": "standing-matrix",
        "papermill": {
          "duration": 0.066263,
          "end_time": "2021-06-27T05:44:13.924584",
          "exception": false,
          "start_time": "2021-06-27T05:44:13.858321",
          "status": "completed"
        },
        "tags": []
      },
      "source": [
        "filterwarnings('ignore')"
      ],
      "id": "standing-matrix",
      "execution_count": 24,
      "outputs": []
    },
    {
      "cell_type": "code",
      "metadata": {
        "execution": {
          "iopub.execute_input": "2021-06-27T05:44:14.048209Z",
          "iopub.status.busy": "2021-06-27T05:44:14.047547Z",
          "iopub.status.idle": "2021-06-27T05:44:14.050888Z",
          "shell.execute_reply": "2021-06-27T05:44:14.050286Z",
          "shell.execute_reply.started": "2021-06-27T05:32:48.014027Z"
        },
        "id": "combined-prime",
        "papermill": {
          "duration": 0.068204,
          "end_time": "2021-06-27T05:44:14.051045",
          "exception": false,
          "start_time": "2021-06-27T05:44:13.982841",
          "status": "completed"
        },
        "tags": []
      },
      "source": [
        "def randomsearch_cv_scores(models, params, X_train, X_test, y_train, y_test):\n",
        "    np.random.seed(42)\n",
        "    \n",
        "    model_rs_scores = {}\n",
        "    model_rs_best_param = {}\n",
        "    \n",
        "    for name, model in models.items():\n",
        "        rs_model = RandomizedSearchCV(model,\n",
        "                                     param_distributions=params[name],\n",
        "                                     cv=5,\n",
        "                                     n_iter=20,\n",
        "                                     verbose=1)\n",
        "        rs_model.fit(X_train,y_train)\n",
        "        model_rs_scores[name] = rs_model.score(X_test,y_test)\n",
        "        model_rs_best_param[name] = rs_model.best_params_\n",
        "        \n",
        "    return model_rs_scores, model_rs_best_param"
      ],
      "id": "combined-prime",
      "execution_count": 25,
      "outputs": []
    },
    {
      "cell_type": "markdown",
      "metadata": {
        "id": "front-mumbai",
        "papermill": {
          "duration": 0.058435,
          "end_time": "2021-06-27T05:44:14.167868",
          "exception": false,
          "start_time": "2021-06-27T05:44:14.109433",
          "status": "completed"
        },
        "tags": []
      },
      "source": [
        "### RandomSearch CV 1"
      ],
      "id": "front-mumbai"
    },
    {
      "cell_type": "code",
      "metadata": {
        "execution": {
          "iopub.execute_input": "2021-06-27T05:44:14.289743Z",
          "iopub.status.busy": "2021-06-27T05:44:14.289084Z",
          "iopub.status.idle": "2021-06-27T05:44:14.298161Z",
          "shell.execute_reply": "2021-06-27T05:44:14.298623Z",
          "shell.execute_reply.started": "2021-06-27T05:42:04.533905Z"
        },
        "id": "saved-provincial",
        "papermill": {
          "duration": 0.072681,
          "end_time": "2021-06-27T05:44:14.298802",
          "exception": false,
          "start_time": "2021-06-27T05:44:14.226121",
          "status": "completed"
        },
        "tags": []
      },
      "source": [
        "params = {'KNeighborsClassifier' : {'n_neighbors': np.arange(1,100,10)},\n",
        "          'XGBClassifier': {'learning_rate': np.linspace(0,1,20),\n",
        "                            'gamma': [0,2,4,10,20,50],\n",
        "                            'max_depth': [2,3,6,10,20],\n",
        "                            'lambda': [0,1],\n",
        "                            'alpha' : [0,0.1,0.2,0.5,0.8,1],\n",
        "                            },\n",
        "          'XGBRFClassifier': {'learning_rate': np.linspace(0,1,20),\n",
        "                              'max_depth': [2,3,6,10,20],\n",
        "                              },\n",
        "          'SVC' : {'C': [0.1,0.5,1, 10,100,500], \n",
        "                   'kernel':['linear', 'poly', 'rbf','sigmoid'],\n",
        "                   'gamma':['scale','auto'],\n",
        "                   'degree':[2,3,4,5,6,7]}\n",
        "          }\n",
        "models = {'KNeighborsClassifier': KNeighborsClassifier(),\n",
        "         'XGBClassifier': XGBClassifier(eval_metric='mlogloss'),\n",
        "         'XGBRFClassifier': XGBRFClassifier(eval_metric='mlogloss'),\n",
        "         'SVC': SVC()\n",
        "         }"
      ],
      "id": "saved-provincial",
      "execution_count": 26,
      "outputs": []
    },
    {
      "cell_type": "code",
      "metadata": {
        "execution": {
          "iopub.execute_input": "2021-06-27T05:44:14.426844Z",
          "iopub.status.busy": "2021-06-27T05:44:14.422846Z",
          "iopub.status.idle": "2021-06-27T05:44:23.120030Z",
          "shell.execute_reply": "2021-06-27T05:44:23.119348Z",
          "shell.execute_reply.started": "2021-06-27T05:42:05.133442Z"
        },
        "id": "obvious-original",
        "papermill": {
          "duration": 8.762669,
          "end_time": "2021-06-27T05:44:23.120188",
          "exception": false,
          "start_time": "2021-06-27T05:44:14.357519",
          "status": "completed"
        },
        "tags": [],
        "colab": {
          "base_uri": "https://localhost:8080/"
        },
        "outputId": "1d1f7815-7129-411f-ddd7-3e99ae1fe723"
      },
      "source": [
        "model_rs_scores_1, model_rs_best_param_1 = randomsearch_cv_scores(models, params, X_train, X_test, y_train, y_test)"
      ],
      "id": "obvious-original",
      "execution_count": 27,
      "outputs": [
        {
          "output_type": "stream",
          "name": "stdout",
          "text": [
            "Fitting 5 folds for each of 10 candidates, totalling 50 fits\n"
          ]
        },
        {
          "output_type": "stream",
          "name": "stderr",
          "text": [
            "[Parallel(n_jobs=1)]: Using backend SequentialBackend with 1 concurrent workers.\n",
            "[Parallel(n_jobs=1)]: Done  50 out of  50 | elapsed:    0.2s finished\n",
            "[Parallel(n_jobs=1)]: Using backend SequentialBackend with 1 concurrent workers.\n"
          ]
        },
        {
          "output_type": "stream",
          "name": "stdout",
          "text": [
            "Fitting 5 folds for each of 20 candidates, totalling 100 fits\n"
          ]
        },
        {
          "output_type": "stream",
          "name": "stderr",
          "text": [
            "[Parallel(n_jobs=1)]: Done 100 out of 100 | elapsed:    1.9s finished\n",
            "[Parallel(n_jobs=1)]: Using backend SequentialBackend with 1 concurrent workers.\n"
          ]
        },
        {
          "output_type": "stream",
          "name": "stdout",
          "text": [
            "Fitting 5 folds for each of 20 candidates, totalling 100 fits\n"
          ]
        },
        {
          "output_type": "stream",
          "name": "stderr",
          "text": [
            "[Parallel(n_jobs=1)]: Done 100 out of 100 | elapsed:    1.3s finished\n",
            "[Parallel(n_jobs=1)]: Using backend SequentialBackend with 1 concurrent workers.\n"
          ]
        },
        {
          "output_type": "stream",
          "name": "stdout",
          "text": [
            "Fitting 5 folds for each of 20 candidates, totalling 100 fits\n"
          ]
        },
        {
          "output_type": "stream",
          "name": "stderr",
          "text": [
            "[Parallel(n_jobs=1)]: Done 100 out of 100 | elapsed:    0.7s finished\n"
          ]
        }
      ]
    },
    {
      "cell_type": "code",
      "metadata": {
        "execution": {
          "iopub.execute_input": "2021-06-27T05:44:23.245426Z",
          "iopub.status.busy": "2021-06-27T05:44:23.244748Z",
          "iopub.status.idle": "2021-06-27T05:44:23.247817Z",
          "shell.execute_reply": "2021-06-27T05:44:23.248309Z",
          "shell.execute_reply.started": "2021-06-27T05:42:13.931469Z"
        },
        "id": "august-visitor",
        "papermill": {
          "duration": 0.067879,
          "end_time": "2021-06-27T05:44:23.248472",
          "exception": false,
          "start_time": "2021-06-27T05:44:23.180593",
          "status": "completed"
        },
        "tags": [],
        "colab": {
          "base_uri": "https://localhost:8080/"
        },
        "outputId": "d56e024b-3766-4225-97e4-b97ff1d2c28d"
      },
      "source": [
        "model_rs_scores_1\n"
      ],
      "id": "august-visitor",
      "execution_count": 28,
      "outputs": [
        {
          "output_type": "execute_result",
          "data": {
            "text/plain": [
              "{'KNeighborsClassifier': 0.925,\n",
              " 'SVC': 0.9375,\n",
              " 'XGBClassifier': 0.9125,\n",
              " 'XGBRFClassifier': 0.9125}"
            ]
          },
          "metadata": {},
          "execution_count": 28
        }
      ]
    },
    {
      "cell_type": "code",
      "metadata": {
        "execution": {
          "iopub.execute_input": "2021-06-27T05:44:23.371708Z",
          "iopub.status.busy": "2021-06-27T05:44:23.371090Z",
          "iopub.status.idle": "2021-06-27T05:44:23.377715Z",
          "shell.execute_reply": "2021-06-27T05:44:23.377149Z",
          "shell.execute_reply.started": "2021-06-27T05:42:13.938124Z"
        },
        "id": "common-projector",
        "papermill": {
          "duration": 0.06944,
          "end_time": "2021-06-27T05:44:23.377853",
          "exception": false,
          "start_time": "2021-06-27T05:44:23.308413",
          "status": "completed"
        },
        "tags": [],
        "colab": {
          "base_uri": "https://localhost:8080/"
        },
        "outputId": "eef345db-5335-4e6b-8a9c-bc8153f1b3d2"
      },
      "source": [
        "model_rs_best_param_1"
      ],
      "id": "common-projector",
      "execution_count": 29,
      "outputs": [
        {
          "output_type": "execute_result",
          "data": {
            "text/plain": [
              "{'KNeighborsClassifier': {'n_neighbors': 11},\n",
              " 'SVC': {'C': 0.5, 'degree': 7, 'gamma': 'scale', 'kernel': 'rbf'},\n",
              " 'XGBClassifier': {'alpha': 0,\n",
              "  'gamma': 20,\n",
              "  'lambda': 0,\n",
              "  'learning_rate': 0.631578947368421,\n",
              "  'max_depth': 2},\n",
              " 'XGBRFClassifier': {'learning_rate': 0.47368421052631576, 'max_depth': 2}}"
            ]
          },
          "metadata": {},
          "execution_count": 29
        }
      ]
    },
    {
      "cell_type": "markdown",
      "metadata": {
        "id": "special-sponsorship",
        "papermill": {
          "duration": 0.059969,
          "end_time": "2021-06-27T05:44:23.499588",
          "exception": false,
          "start_time": "2021-06-27T05:44:23.439619",
          "status": "completed"
        },
        "tags": []
      },
      "source": [
        "## RandomSearch CV 2"
      ],
      "id": "special-sponsorship"
    },
    {
      "cell_type": "code",
      "metadata": {
        "execution": {
          "iopub.execute_input": "2021-06-27T05:44:23.634447Z",
          "iopub.status.busy": "2021-06-27T05:44:23.633556Z",
          "iopub.status.idle": "2021-06-27T05:44:23.636649Z",
          "shell.execute_reply": "2021-06-27T05:44:23.636097Z",
          "shell.execute_reply.started": "2021-06-27T05:41:30.968706Z"
        },
        "id": "gentle-television",
        "papermill": {
          "duration": 0.074657,
          "end_time": "2021-06-27T05:44:23.636785",
          "exception": false,
          "start_time": "2021-06-27T05:44:23.562128",
          "status": "completed"
        },
        "tags": []
      },
      "source": [
        "params = {'KNeighborsClassifier' : {'n_neighbors': np.arange(1,15)},\n",
        "          'XGBClassifier': {'learning_rate': [0.631578947368421],\n",
        "                            'gamma': [15,20,25],\n",
        "                            'max_depth': [2],\n",
        "                            'lambda': [0,1],\n",
        "                            'alpha' : [0],\n",
        "                            },\n",
        "          'XGBRFClassifier': {'learning_rate': [0.47368421052631576],\n",
        "                              'max_depth': [2],\n",
        "                              },\n",
        "          'SVC' : {'C': [0.3,0.4,0.5,0.6,0.7], \n",
        "                   'kernel':['rbf'],\n",
        "                   'gamma':['scale'],\n",
        "                   'degree':[7,8,9,10,15,20]}\n",
        "          }\n",
        "models = {'KNeighborsClassifier': KNeighborsClassifier(),\n",
        "         'XGBClassifier': XGBClassifier(eval_metric='mlogloss'),\n",
        "         'XGBRFClassifier': XGBRFClassifier(eval_metric='mlogloss'),\n",
        "         'SVC': SVC()\n",
        "         }"
      ],
      "id": "gentle-television",
      "execution_count": 30,
      "outputs": []
    },
    {
      "cell_type": "code",
      "metadata": {
        "execution": {
          "iopub.execute_input": "2021-06-27T05:44:23.767122Z",
          "iopub.status.busy": "2021-06-27T05:44:23.766463Z",
          "iopub.status.idle": "2021-06-27T05:44:25.632663Z",
          "shell.execute_reply": "2021-06-27T05:44:25.631536Z",
          "shell.execute_reply.started": "2021-06-27T05:41:31.349143Z"
        },
        "id": "attempted-register",
        "papermill": {
          "duration": 1.93477,
          "end_time": "2021-06-27T05:44:25.632818",
          "exception": false,
          "start_time": "2021-06-27T05:44:23.698048",
          "status": "completed"
        },
        "tags": [],
        "colab": {
          "base_uri": "https://localhost:8080/"
        },
        "outputId": "63e91423-41d7-46b2-c8c6-2b0f9e32df13"
      },
      "source": [
        "model_rs_scores_2, model_rs_best_param_2 = randomsearch_cv_scores(models, params, X_train, X_test, y_train, y_test)"
      ],
      "id": "attempted-register",
      "execution_count": 31,
      "outputs": [
        {
          "output_type": "stream",
          "name": "stderr",
          "text": [
            "[Parallel(n_jobs=1)]: Using backend SequentialBackend with 1 concurrent workers.\n"
          ]
        },
        {
          "output_type": "stream",
          "name": "stdout",
          "text": [
            "Fitting 5 folds for each of 14 candidates, totalling 70 fits\n"
          ]
        },
        {
          "output_type": "stream",
          "name": "stderr",
          "text": [
            "[Parallel(n_jobs=1)]: Done  70 out of  70 | elapsed:    0.3s finished\n",
            "[Parallel(n_jobs=1)]: Using backend SequentialBackend with 1 concurrent workers.\n"
          ]
        },
        {
          "output_type": "stream",
          "name": "stdout",
          "text": [
            "Fitting 5 folds for each of 6 candidates, totalling 30 fits\n"
          ]
        },
        {
          "output_type": "stream",
          "name": "stderr",
          "text": [
            "[Parallel(n_jobs=1)]: Done  30 out of  30 | elapsed:    0.5s finished\n",
            "[Parallel(n_jobs=1)]: Using backend SequentialBackend with 1 concurrent workers.\n",
            "[Parallel(n_jobs=1)]: Done   5 out of   5 | elapsed:    0.1s finished\n",
            "[Parallel(n_jobs=1)]: Using backend SequentialBackend with 1 concurrent workers.\n"
          ]
        },
        {
          "output_type": "stream",
          "name": "stdout",
          "text": [
            "Fitting 5 folds for each of 1 candidates, totalling 5 fits\n",
            "Fitting 5 folds for each of 20 candidates, totalling 100 fits\n"
          ]
        },
        {
          "output_type": "stream",
          "name": "stderr",
          "text": [
            "[Parallel(n_jobs=1)]: Done 100 out of 100 | elapsed:    0.3s finished\n"
          ]
        }
      ]
    },
    {
      "cell_type": "code",
      "metadata": {
        "execution": {
          "iopub.execute_input": "2021-06-27T05:44:25.766504Z",
          "iopub.status.busy": "2021-06-27T05:44:25.765793Z",
          "iopub.status.idle": "2021-06-27T05:44:25.771708Z",
          "shell.execute_reply": "2021-06-27T05:44:25.771094Z",
          "shell.execute_reply.started": "2021-06-27T05:41:33.425815Z"
        },
        "id": "pending-ideal",
        "papermill": {
          "duration": 0.076897,
          "end_time": "2021-06-27T05:44:25.771845",
          "exception": false,
          "start_time": "2021-06-27T05:44:25.694948",
          "status": "completed"
        },
        "tags": [],
        "colab": {
          "base_uri": "https://localhost:8080/"
        },
        "outputId": "b438295d-7f1c-4b99-b016-3922a6ccfeb7"
      },
      "source": [
        "model_rs_scores_2"
      ],
      "id": "pending-ideal",
      "execution_count": 32,
      "outputs": [
        {
          "output_type": "execute_result",
          "data": {
            "text/plain": [
              "{'KNeighborsClassifier': 0.9375,\n",
              " 'SVC': 0.925,\n",
              " 'XGBClassifier': 0.9125,\n",
              " 'XGBRFClassifier': 0.9125}"
            ]
          },
          "metadata": {},
          "execution_count": 32
        }
      ]
    },
    {
      "cell_type": "code",
      "metadata": {
        "execution": {
          "iopub.execute_input": "2021-06-27T05:44:25.901222Z",
          "iopub.status.busy": "2021-06-27T05:44:25.900544Z",
          "iopub.status.idle": "2021-06-27T05:44:25.903376Z",
          "shell.execute_reply": "2021-06-27T05:44:25.903840Z",
          "shell.execute_reply.started": "2021-06-27T05:41:40.544567Z"
        },
        "id": "designing-asset",
        "papermill": {
          "duration": 0.070294,
          "end_time": "2021-06-27T05:44:25.904025",
          "exception": false,
          "start_time": "2021-06-27T05:44:25.833731",
          "status": "completed"
        },
        "tags": [],
        "colab": {
          "base_uri": "https://localhost:8080/"
        },
        "outputId": "f5d57d51-f7c1-4939-fa18-bf2dd45e0b13"
      },
      "source": [
        "model_rs_best_param_2"
      ],
      "id": "designing-asset",
      "execution_count": 33,
      "outputs": [
        {
          "output_type": "execute_result",
          "data": {
            "text/plain": [
              "{'KNeighborsClassifier': {'n_neighbors': 9},\n",
              " 'SVC': {'C': 0.6, 'degree': 20, 'gamma': 'scale', 'kernel': 'rbf'},\n",
              " 'XGBClassifier': {'alpha': 0,\n",
              "  'gamma': 15,\n",
              "  'lambda': 0,\n",
              "  'learning_rate': 0.631578947368421,\n",
              "  'max_depth': 2},\n",
              " 'XGBRFClassifier': {'learning_rate': 0.47368421052631576, 'max_depth': 2}}"
            ]
          },
          "metadata": {},
          "execution_count": 33
        }
      ]
    },
    {
      "cell_type": "markdown",
      "metadata": {
        "id": "incoming-buddy",
        "papermill": {
          "duration": 0.062032,
          "end_time": "2021-06-27T05:44:26.028130",
          "exception": false,
          "start_time": "2021-06-27T05:44:25.966098",
          "status": "completed"
        },
        "tags": []
      },
      "source": [
        "# 6. Model Evaluting"
      ],
      "id": "incoming-buddy"
    },
    {
      "cell_type": "code",
      "metadata": {
        "execution": {
          "iopub.execute_input": "2021-06-27T05:44:26.162307Z",
          "iopub.status.busy": "2021-06-27T05:44:26.161638Z",
          "iopub.status.idle": "2021-06-27T05:44:26.165150Z",
          "shell.execute_reply": "2021-06-27T05:44:26.165608Z",
          "shell.execute_reply.started": "2021-06-27T05:32:58.639279Z"
        },
        "id": "fiscal-anaheim",
        "papermill": {
          "duration": 0.073524,
          "end_time": "2021-06-27T05:44:26.165792",
          "exception": false,
          "start_time": "2021-06-27T05:44:26.092268",
          "status": "completed"
        },
        "tags": []
      },
      "source": [
        "from sklearn.metrics import classification_report, plot_confusion_matrix, plot_roc_curve"
      ],
      "id": "fiscal-anaheim",
      "execution_count": 34,
      "outputs": []
    },
    {
      "cell_type": "code",
      "metadata": {
        "execution": {
          "iopub.execute_input": "2021-06-27T05:44:26.292998Z",
          "iopub.status.busy": "2021-06-27T05:44:26.292323Z",
          "iopub.status.idle": "2021-06-27T05:44:26.301194Z",
          "shell.execute_reply": "2021-06-27T05:44:26.301729Z",
          "shell.execute_reply.started": "2021-06-27T05:32:58.650592Z"
        },
        "id": "considered-quilt",
        "papermill": {
          "duration": 0.074328,
          "end_time": "2021-06-27T05:44:26.301901",
          "exception": false,
          "start_time": "2021-06-27T05:44:26.227573",
          "status": "completed"
        },
        "tags": []
      },
      "source": [
        "model = KNeighborsClassifier(n_neighbors=9)\n",
        "model.fit(X_train,y_train)\n",
        "y_preds = model.predict(X_test)"
      ],
      "id": "considered-quilt",
      "execution_count": 35,
      "outputs": []
    },
    {
      "cell_type": "markdown",
      "metadata": {
        "id": "quarterly-murray",
        "papermill": {
          "duration": 0.06203,
          "end_time": "2021-06-27T05:44:26.427730",
          "exception": false,
          "start_time": "2021-06-27T05:44:26.365700",
          "status": "completed"
        },
        "tags": []
      },
      "source": [
        "## Classification Report"
      ],
      "id": "quarterly-murray"
    },
    {
      "cell_type": "code",
      "metadata": {
        "execution": {
          "iopub.execute_input": "2021-06-27T05:44:26.555708Z",
          "iopub.status.busy": "2021-06-27T05:44:26.555062Z",
          "iopub.status.idle": "2021-06-27T05:44:26.565306Z",
          "shell.execute_reply": "2021-06-27T05:44:26.565814Z",
          "shell.execute_reply.started": "2021-06-27T05:32:58.669190Z"
        },
        "id": "dirty-sport",
        "papermill": {
          "duration": 0.076758,
          "end_time": "2021-06-27T05:44:26.566002",
          "exception": false,
          "start_time": "2021-06-27T05:44:26.489244",
          "status": "completed"
        },
        "tags": [],
        "colab": {
          "base_uri": "https://localhost:8080/"
        },
        "outputId": "425aff5b-f57f-4349-a623-9319c40561db"
      },
      "source": [
        "print(classification_report(y_test,y_preds))"
      ],
      "id": "dirty-sport",
      "execution_count": 36,
      "outputs": [
        {
          "output_type": "stream",
          "name": "stdout",
          "text": [
            "              precision    recall  f1-score   support\n",
            "\n",
            "           0       0.98      0.92      0.95        52\n",
            "           1       0.87      0.96      0.92        28\n",
            "\n",
            "    accuracy                           0.94        80\n",
            "   macro avg       0.93      0.94      0.93        80\n",
            "weighted avg       0.94      0.94      0.94        80\n",
            "\n"
          ]
        }
      ]
    },
    {
      "cell_type": "markdown",
      "metadata": {
        "id": "strategic-progress",
        "papermill": {
          "duration": 0.061903,
          "end_time": "2021-06-27T05:44:26.691293",
          "exception": false,
          "start_time": "2021-06-27T05:44:26.629390",
          "status": "completed"
        },
        "tags": []
      },
      "source": [
        "## Confusion Matrix"
      ],
      "id": "strategic-progress"
    },
    {
      "cell_type": "code",
      "metadata": {
        "execution": {
          "iopub.execute_input": "2021-06-27T05:44:26.825362Z",
          "iopub.status.busy": "2021-06-27T05:44:26.824385Z",
          "iopub.status.idle": "2021-06-27T05:44:26.987991Z",
          "shell.execute_reply": "2021-06-27T05:44:26.988444Z",
          "shell.execute_reply.started": "2021-06-27T05:32:58.690152Z"
        },
        "id": "quality-stuff",
        "papermill": {
          "duration": 0.233674,
          "end_time": "2021-06-27T05:44:26.988618",
          "exception": false,
          "start_time": "2021-06-27T05:44:26.754944",
          "status": "completed"
        },
        "tags": [],
        "colab": {
          "base_uri": "https://localhost:8080/",
          "height": 296
        },
        "outputId": "4b01df8f-f291-4134-a007-13d593af95fa"
      },
      "source": [
        "plot_confusion_matrix(model, X_test, y_test)"
      ],
      "id": "quality-stuff",
      "execution_count": 37,
      "outputs": [
        {
          "output_type": "execute_result",
          "data": {
            "text/plain": [
              "<sklearn.metrics._plot.confusion_matrix.ConfusionMatrixDisplay at 0x7fbc53466e10>"
            ]
          },
          "metadata": {},
          "execution_count": 37
        },
        {
          "output_type": "display_data",
          "data": {
            "image/png": "[encoded data removed]",
            "text/plain": [
              "<Figure size 432x288 with 2 Axes>"
            ]
          },
          "metadata": {
            "needs_background": "light"
          }
        }
      ]
    },
    {
      "cell_type": "markdown",
      "metadata": {
        "id": "tutorial-coverage",
        "papermill": {
          "duration": 0.068865,
          "end_time": "2021-06-27T05:44:27.120726",
          "exception": false,
          "start_time": "2021-06-27T05:44:27.051861",
          "status": "completed"
        },
        "tags": []
      },
      "source": [
        "## ROC Curve"
      ],
      "id": "tutorial-coverage"
    },
    {
      "cell_type": "code",
      "metadata": {
        "execution": {
          "iopub.execute_input": "2021-06-27T05:44:27.251227Z",
          "iopub.status.busy": "2021-06-27T05:44:27.250269Z",
          "iopub.status.idle": "2021-06-27T05:44:27.403383Z",
          "shell.execute_reply": "2021-06-27T05:44:27.403881Z",
          "shell.execute_reply.started": "2021-06-27T05:32:58.857540Z"
        },
        "id": "unusual-integrity",
        "papermill": {
          "duration": 0.220353,
          "end_time": "2021-06-27T05:44:27.404065",
          "exception": false,
          "start_time": "2021-06-27T05:44:27.183712",
          "status": "completed"
        },
        "tags": [],
        "colab": {
          "base_uri": "https://localhost:8080/",
          "height": 296
        },
        "outputId": "d8dee15f-3498-44ee-8866-b017c2a28f34"
      },
      "source": [
        "plot_roc_curve(model, X_test,y_test)"
      ],
      "id": "unusual-integrity",
      "execution_count": 38,
      "outputs": [
        {
          "output_type": "execute_result",
          "data": {
            "text/plain": [
              "<sklearn.metrics._plot.roc_curve.RocCurveDisplay at 0x7fbc3b890090>"
            ]
          },
          "metadata": {},
          "execution_count": 38
        },
        {
          "output_type": "display_data",
          "data": {
            "image/png": "[encoded data removed]",
            "text/plain": [
              "<Figure size 432x288 with 1 Axes>"
            ]
          },
          "metadata": {
            "needs_background": "light"
          }
        }
      ]
    },
    {
      "cell_type": "markdown",
      "metadata": {
        "id": "changing-preserve",
        "papermill": {
          "duration": 0.063458,
          "end_time": "2021-06-27T05:44:27.532712",
          "exception": false,
          "start_time": "2021-06-27T05:44:27.469254",
          "status": "completed"
        },
        "tags": []
      },
      "source": [
        "Model is preforming at 94% Accuracy"
      ],
      "id": "changing-preserve"
    }
  ]
}